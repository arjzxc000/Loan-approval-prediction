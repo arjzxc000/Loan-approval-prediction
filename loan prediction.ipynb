{
 "cells": [
  {
   "cell_type": "code",
   "execution_count": 2,
   "source": [
    "import pandas as pd\r\n",
    "import numpy as np\r\n",
    "import matplotlib.pyplot as plt"
   ],
   "outputs": [],
   "metadata": {}
  },
  {
   "cell_type": "code",
   "execution_count": 3,
   "source": [
    "user_data = pd.read_csv('train_dataset.csv')"
   ],
   "outputs": [],
   "metadata": {}
  },
  {
   "cell_type": "code",
   "execution_count": 4,
   "source": [
    "user_data.head()"
   ],
   "outputs": [
    {
     "output_type": "execute_result",
     "data": {
      "text/html": [
       "<div>\n",
       "<style scoped>\n",
       "    .dataframe tbody tr th:only-of-type {\n",
       "        vertical-align: middle;\n",
       "    }\n",
       "\n",
       "    .dataframe tbody tr th {\n",
       "        vertical-align: top;\n",
       "    }\n",
       "\n",
       "    .dataframe thead th {\n",
       "        text-align: right;\n",
       "    }\n",
       "</style>\n",
       "<table border=\"1\" class=\"dataframe\">\n",
       "  <thead>\n",
       "    <tr style=\"text-align: right;\">\n",
       "      <th></th>\n",
       "      <th>Loan_ID</th>\n",
       "      <th>Gender</th>\n",
       "      <th>Married</th>\n",
       "      <th>Dependents</th>\n",
       "      <th>Education</th>\n",
       "      <th>Self_Employed</th>\n",
       "      <th>ApplicantIncome</th>\n",
       "      <th>CoapplicantIncome</th>\n",
       "      <th>LoanAmount</th>\n",
       "      <th>Loan_Amount_Term</th>\n",
       "      <th>Credit_History</th>\n",
       "      <th>Property_Area</th>\n",
       "      <th>Loan_Status</th>\n",
       "    </tr>\n",
       "  </thead>\n",
       "  <tbody>\n",
       "    <tr>\n",
       "      <th>0</th>\n",
       "      <td>LP001002</td>\n",
       "      <td>Male</td>\n",
       "      <td>No</td>\n",
       "      <td>0</td>\n",
       "      <td>Graduate</td>\n",
       "      <td>No</td>\n",
       "      <td>5849</td>\n",
       "      <td>0.0</td>\n",
       "      <td>NaN</td>\n",
       "      <td>360.0</td>\n",
       "      <td>1.0</td>\n",
       "      <td>Urban</td>\n",
       "      <td>Y</td>\n",
       "    </tr>\n",
       "    <tr>\n",
       "      <th>1</th>\n",
       "      <td>LP001003</td>\n",
       "      <td>Male</td>\n",
       "      <td>Yes</td>\n",
       "      <td>1</td>\n",
       "      <td>Graduate</td>\n",
       "      <td>No</td>\n",
       "      <td>4583</td>\n",
       "      <td>1508.0</td>\n",
       "      <td>128.0</td>\n",
       "      <td>360.0</td>\n",
       "      <td>1.0</td>\n",
       "      <td>Rural</td>\n",
       "      <td>N</td>\n",
       "    </tr>\n",
       "    <tr>\n",
       "      <th>2</th>\n",
       "      <td>LP001005</td>\n",
       "      <td>Male</td>\n",
       "      <td>Yes</td>\n",
       "      <td>0</td>\n",
       "      <td>Graduate</td>\n",
       "      <td>Yes</td>\n",
       "      <td>3000</td>\n",
       "      <td>0.0</td>\n",
       "      <td>66.0</td>\n",
       "      <td>360.0</td>\n",
       "      <td>1.0</td>\n",
       "      <td>Urban</td>\n",
       "      <td>Y</td>\n",
       "    </tr>\n",
       "    <tr>\n",
       "      <th>3</th>\n",
       "      <td>LP001006</td>\n",
       "      <td>Male</td>\n",
       "      <td>Yes</td>\n",
       "      <td>0</td>\n",
       "      <td>Not Graduate</td>\n",
       "      <td>No</td>\n",
       "      <td>2583</td>\n",
       "      <td>2358.0</td>\n",
       "      <td>120.0</td>\n",
       "      <td>360.0</td>\n",
       "      <td>1.0</td>\n",
       "      <td>Urban</td>\n",
       "      <td>Y</td>\n",
       "    </tr>\n",
       "    <tr>\n",
       "      <th>4</th>\n",
       "      <td>LP001008</td>\n",
       "      <td>Male</td>\n",
       "      <td>No</td>\n",
       "      <td>0</td>\n",
       "      <td>Graduate</td>\n",
       "      <td>No</td>\n",
       "      <td>6000</td>\n",
       "      <td>0.0</td>\n",
       "      <td>141.0</td>\n",
       "      <td>360.0</td>\n",
       "      <td>1.0</td>\n",
       "      <td>Urban</td>\n",
       "      <td>Y</td>\n",
       "    </tr>\n",
       "  </tbody>\n",
       "</table>\n",
       "</div>"
      ],
      "text/plain": [
       "    Loan_ID Gender Married Dependents     Education Self_Employed  \\\n",
       "0  LP001002   Male      No          0      Graduate            No   \n",
       "1  LP001003   Male     Yes          1      Graduate            No   \n",
       "2  LP001005   Male     Yes          0      Graduate           Yes   \n",
       "3  LP001006   Male     Yes          0  Not Graduate            No   \n",
       "4  LP001008   Male      No          0      Graduate            No   \n",
       "\n",
       "   ApplicantIncome  CoapplicantIncome  LoanAmount  Loan_Amount_Term  \\\n",
       "0             5849                0.0         NaN             360.0   \n",
       "1             4583             1508.0       128.0             360.0   \n",
       "2             3000                0.0        66.0             360.0   \n",
       "3             2583             2358.0       120.0             360.0   \n",
       "4             6000                0.0       141.0             360.0   \n",
       "\n",
       "   Credit_History Property_Area Loan_Status  \n",
       "0             1.0         Urban           Y  \n",
       "1             1.0         Rural           N  \n",
       "2             1.0         Urban           Y  \n",
       "3             1.0         Urban           Y  \n",
       "4             1.0         Urban           Y  "
      ]
     },
     "metadata": {},
     "execution_count": 4
    }
   ],
   "metadata": {}
  },
  {
   "cell_type": "code",
   "execution_count": 5,
   "source": [
    "user_data.info()"
   ],
   "outputs": [
    {
     "output_type": "stream",
     "name": "stdout",
     "text": [
      "<class 'pandas.core.frame.DataFrame'>\n",
      "RangeIndex: 614 entries, 0 to 613\n",
      "Data columns (total 13 columns):\n",
      " #   Column             Non-Null Count  Dtype  \n",
      "---  ------             --------------  -----  \n",
      " 0   Loan_ID            614 non-null    object \n",
      " 1   Gender             601 non-null    object \n",
      " 2   Married            611 non-null    object \n",
      " 3   Dependents         599 non-null    object \n",
      " 4   Education          614 non-null    object \n",
      " 5   Self_Employed      582 non-null    object \n",
      " 6   ApplicantIncome    614 non-null    int64  \n",
      " 7   CoapplicantIncome  614 non-null    float64\n",
      " 8   LoanAmount         592 non-null    float64\n",
      " 9   Loan_Amount_Term   600 non-null    float64\n",
      " 10  Credit_History     564 non-null    float64\n",
      " 11  Property_Area      614 non-null    object \n",
      " 12  Loan_Status        614 non-null    object \n",
      "dtypes: float64(4), int64(1), object(8)\n",
      "memory usage: 62.5+ KB\n"
     ]
    }
   ],
   "metadata": {}
  },
  {
   "cell_type": "code",
   "execution_count": 6,
   "source": [
    "user_data['Gender'] = user_data['Gender'].fillna('Prefer not to say')\r\n",
    "user_data['Married'] = user_data['Married'].fillna('Prefer not to say')\r\n",
    "user_data['Credit_History'] = user_data['Credit_History'].fillna('0')\r\n",
    "user_data['Dependents'] = user_data['Dependents'].fillna('0')"
   ],
   "outputs": [],
   "metadata": {}
  },
  {
   "cell_type": "code",
   "execution_count": 7,
   "source": [
    "# check for a percentage of null values\r\n",
    "for i in user_data.columns:\r\n",
    "    print(f'Columns {i} has Na values {user_data[i].isna().sum()} row from {len(user_data[i])} about {user_data[i].isna().sum()*100/user_data[i].count()}%')"
   ],
   "outputs": [
    {
     "output_type": "stream",
     "name": "stdout",
     "text": [
      "Columns Loan_ID has Na values 0 row from 614 about 0.0%\n",
      "Columns Gender has Na values 0 row from 614 about 0.0%\n",
      "Columns Married has Na values 0 row from 614 about 0.0%\n",
      "Columns Dependents has Na values 0 row from 614 about 0.0%\n",
      "Columns Education has Na values 0 row from 614 about 0.0%\n",
      "Columns Self_Employed has Na values 32 row from 614 about 5.498281786941581%\n",
      "Columns ApplicantIncome has Na values 0 row from 614 about 0.0%\n",
      "Columns CoapplicantIncome has Na values 0 row from 614 about 0.0%\n",
      "Columns LoanAmount has Na values 22 row from 614 about 3.7162162162162162%\n",
      "Columns Loan_Amount_Term has Na values 14 row from 614 about 2.3333333333333335%\n",
      "Columns Credit_History has Na values 0 row from 614 about 0.0%\n",
      "Columns Property_Area has Na values 0 row from 614 about 0.0%\n",
      "Columns Loan_Status has Na values 0 row from 614 about 0.0%\n"
     ]
    }
   ],
   "metadata": {}
  },
  {
   "cell_type": "markdown",
   "source": [
    "I decided to drop na because columns `Self_employed, LoanAmount and Loan_Amount_Term` can't be assumed."
   ],
   "metadata": {}
  },
  {
   "cell_type": "code",
   "execution_count": 8,
   "source": [
    "user_data = user_data.dropna()"
   ],
   "outputs": [],
   "metadata": {}
  },
  {
   "cell_type": "code",
   "execution_count": 9,
   "source": [
    "user_data['Credit_History'].unique()"
   ],
   "outputs": [
    {
     "output_type": "execute_result",
     "data": {
      "text/plain": [
       "array([1.0, 0.0, '0'], dtype=object)"
      ]
     },
     "metadata": {},
     "execution_count": 9
    }
   ],
   "metadata": {}
  },
  {
   "cell_type": "code",
   "execution_count": 10,
   "source": [
    "user_data['Credit_History'] = user_data['Credit_History'].replace('0', 0)"
   ],
   "outputs": [],
   "metadata": {}
  },
  {
   "cell_type": "code",
   "execution_count": 11,
   "source": [
    "for i in user_data.columns[1:]:\r\n",
    "    if i == 'Loan_Status':\r\n",
    "        plt.hist(user_data[i])\r\n",
    "        plt.legend(user_data[i].unique())\r\n",
    "        # plt.title(f'{i}')\r\n",
    "        plt.show()\r\n",
    "    else:\r\n",
    "        \r\n",
    "        plt.hist(user_data[i])\r\n",
    "        plt.hist(user_data[user_data['Loan_Status'] == 'Y'][i])\r\n",
    "        plt.hist(user_data[user_data['Loan_Status'] == 'N'][i])\r\n",
    "        plt.legend(['total','Yes','No'])\r\n",
    "        plt.title(f'{i}')\r\n",
    "        plt.show()"
   ],
   "outputs": [
    {
     "output_type": "display_data",
     "data": {
      "image/png": "[encoded data removed]",
      "text/plain": [
       "<Figure size 432x288 with 1 Axes>"
      ]
     },
     "metadata": {
      "needs_background": "light"
     }
    },
    {
     "output_type": "display_data",
     "data": {
      "image/png": "[encoded data removed]",
      "text/plain": [
       "<Figure size 432x288 with 1 Axes>"
      ]
     },
     "metadata": {
      "needs_background": "light"
     }
    },
    {
     "output_type": "display_data",
     "data": {
      "image/png": "[encoded data removed]",
      "text/plain": [
       "<Figure size 432x288 with 1 Axes>"
      ]
     },
     "metadata": {
      "needs_background": "light"
     }
    },
    {
     "output_type": "display_data",
     "data": {
      "image/png": "[encoded data removed]",
      "text/plain": [
       "<Figure size 432x288 with 1 Axes>"
      ]
     },
     "metadata": {
      "needs_background": "light"
     }
    },
    {
     "output_type": "display_data",
     "data": {
      "image/png": "[encoded data removed]",
      "text/plain": [
       "<Figure size 432x288 with 1 Axes>"
      ]
     },
     "metadata": {
      "needs_background": "light"
     }
    },
    {
     "output_type": "display_data",
     "data": {
      "image/png": "[encoded data removed]",
      "text/plain": [
       "<Figure size 432x288 with 1 Axes>"
      ]
     },
     "metadata": {
      "needs_background": "light"
     }
    },
    {
     "output_type": "display_data",
     "data": {
      "image/png": "[encoded data removed]",
      "text/plain": [
       "<Figure size 432x288 with 1 Axes>"
      ]
     },
     "metadata": {
      "needs_background": "light"
     }
    },
    {
     "output_type": "display_data",
     "data": {
      "image/png": "[encoded data removed]",
      "text/plain": [
       "<Figure size 432x288 with 1 Axes>"
      ]
     },
     "metadata": {
      "needs_background": "light"
     }
    },
    {
     "output_type": "display_data",
     "data": {
      "image/png": "[encoded data removed]",
      "text/plain": [
       "<Figure size 432x288 with 1 Axes>"
      ]
     },
     "metadata": {
      "needs_background": "light"
     }
    },
    {
     "output_type": "display_data",
     "data": {
      "image/png": "[encoded data removed]",
      "text/plain": [
       "<Figure size 432x288 with 1 Axes>"
      ]
     },
     "metadata": {
      "needs_background": "light"
     }
    },
    {
     "output_type": "display_data",
     "data": {
      "image/png": "[encoded data removed]",
      "text/plain": [
       "<Figure size 432x288 with 1 Axes>"
      ]
     },
     "metadata": {
      "needs_background": "light"
     }
    },
    {
     "output_type": "display_data",
     "data": {
      "image/png": "[encoded data removed]",
      "text/plain": [
       "<Figure size 432x288 with 1 Axes>"
      ]
     },
     "metadata": {
      "needs_background": "light"
     }
    }
   ],
   "metadata": {}
  },
  {
   "cell_type": "markdown",
   "source": [
    "As you can see, most of people who came for a loan is a male and got married"
   ],
   "metadata": {}
  },
  {
   "cell_type": "code",
   "execution_count": 12,
   "source": [
    "# propotion of approved in each columns"
   ],
   "outputs": [],
   "metadata": {}
  },
  {
   "cell_type": "code",
   "execution_count": 13,
   "source": [
    "user_data[user_data['Loan_Status'] == 'Y']"
   ],
   "outputs": [
    {
     "output_type": "execute_result",
     "data": {
      "text/html": [
       "<div>\n",
       "<style scoped>\n",
       "    .dataframe tbody tr th:only-of-type {\n",
       "        vertical-align: middle;\n",
       "    }\n",
       "\n",
       "    .dataframe tbody tr th {\n",
       "        vertical-align: top;\n",
       "    }\n",
       "\n",
       "    .dataframe thead th {\n",
       "        text-align: right;\n",
       "    }\n",
       "</style>\n",
       "<table border=\"1\" class=\"dataframe\">\n",
       "  <thead>\n",
       "    <tr style=\"text-align: right;\">\n",
       "      <th></th>\n",
       "      <th>Loan_ID</th>\n",
       "      <th>Gender</th>\n",
       "      <th>Married</th>\n",
       "      <th>Dependents</th>\n",
       "      <th>Education</th>\n",
       "      <th>Self_Employed</th>\n",
       "      <th>ApplicantIncome</th>\n",
       "      <th>CoapplicantIncome</th>\n",
       "      <th>LoanAmount</th>\n",
       "      <th>Loan_Amount_Term</th>\n",
       "      <th>Credit_History</th>\n",
       "      <th>Property_Area</th>\n",
       "      <th>Loan_Status</th>\n",
       "    </tr>\n",
       "  </thead>\n",
       "  <tbody>\n",
       "    <tr>\n",
       "      <th>2</th>\n",
       "      <td>LP001005</td>\n",
       "      <td>Male</td>\n",
       "      <td>Yes</td>\n",
       "      <td>0</td>\n",
       "      <td>Graduate</td>\n",
       "      <td>Yes</td>\n",
       "      <td>3000</td>\n",
       "      <td>0.0</td>\n",
       "      <td>66.0</td>\n",
       "      <td>360.0</td>\n",
       "      <td>1.0</td>\n",
       "      <td>Urban</td>\n",
       "      <td>Y</td>\n",
       "    </tr>\n",
       "    <tr>\n",
       "      <th>3</th>\n",
       "      <td>LP001006</td>\n",
       "      <td>Male</td>\n",
       "      <td>Yes</td>\n",
       "      <td>0</td>\n",
       "      <td>Not Graduate</td>\n",
       "      <td>No</td>\n",
       "      <td>2583</td>\n",
       "      <td>2358.0</td>\n",
       "      <td>120.0</td>\n",
       "      <td>360.0</td>\n",
       "      <td>1.0</td>\n",
       "      <td>Urban</td>\n",
       "      <td>Y</td>\n",
       "    </tr>\n",
       "    <tr>\n",
       "      <th>4</th>\n",
       "      <td>LP001008</td>\n",
       "      <td>Male</td>\n",
       "      <td>No</td>\n",
       "      <td>0</td>\n",
       "      <td>Graduate</td>\n",
       "      <td>No</td>\n",
       "      <td>6000</td>\n",
       "      <td>0.0</td>\n",
       "      <td>141.0</td>\n",
       "      <td>360.0</td>\n",
       "      <td>1.0</td>\n",
       "      <td>Urban</td>\n",
       "      <td>Y</td>\n",
       "    </tr>\n",
       "    <tr>\n",
       "      <th>5</th>\n",
       "      <td>LP001011</td>\n",
       "      <td>Male</td>\n",
       "      <td>Yes</td>\n",
       "      <td>2</td>\n",
       "      <td>Graduate</td>\n",
       "      <td>Yes</td>\n",
       "      <td>5417</td>\n",
       "      <td>4196.0</td>\n",
       "      <td>267.0</td>\n",
       "      <td>360.0</td>\n",
       "      <td>1.0</td>\n",
       "      <td>Urban</td>\n",
       "      <td>Y</td>\n",
       "    </tr>\n",
       "    <tr>\n",
       "      <th>6</th>\n",
       "      <td>LP001013</td>\n",
       "      <td>Male</td>\n",
       "      <td>Yes</td>\n",
       "      <td>0</td>\n",
       "      <td>Not Graduate</td>\n",
       "      <td>No</td>\n",
       "      <td>2333</td>\n",
       "      <td>1516.0</td>\n",
       "      <td>95.0</td>\n",
       "      <td>360.0</td>\n",
       "      <td>1.0</td>\n",
       "      <td>Urban</td>\n",
       "      <td>Y</td>\n",
       "    </tr>\n",
       "    <tr>\n",
       "      <th>...</th>\n",
       "      <td>...</td>\n",
       "      <td>...</td>\n",
       "      <td>...</td>\n",
       "      <td>...</td>\n",
       "      <td>...</td>\n",
       "      <td>...</td>\n",
       "      <td>...</td>\n",
       "      <td>...</td>\n",
       "      <td>...</td>\n",
       "      <td>...</td>\n",
       "      <td>...</td>\n",
       "      <td>...</td>\n",
       "      <td>...</td>\n",
       "    </tr>\n",
       "    <tr>\n",
       "      <th>608</th>\n",
       "      <td>LP002974</td>\n",
       "      <td>Male</td>\n",
       "      <td>Yes</td>\n",
       "      <td>0</td>\n",
       "      <td>Graduate</td>\n",
       "      <td>No</td>\n",
       "      <td>3232</td>\n",
       "      <td>1950.0</td>\n",
       "      <td>108.0</td>\n",
       "      <td>360.0</td>\n",
       "      <td>1.0</td>\n",
       "      <td>Rural</td>\n",
       "      <td>Y</td>\n",
       "    </tr>\n",
       "    <tr>\n",
       "      <th>609</th>\n",
       "      <td>LP002978</td>\n",
       "      <td>Female</td>\n",
       "      <td>No</td>\n",
       "      <td>0</td>\n",
       "      <td>Graduate</td>\n",
       "      <td>No</td>\n",
       "      <td>2900</td>\n",
       "      <td>0.0</td>\n",
       "      <td>71.0</td>\n",
       "      <td>360.0</td>\n",
       "      <td>1.0</td>\n",
       "      <td>Rural</td>\n",
       "      <td>Y</td>\n",
       "    </tr>\n",
       "    <tr>\n",
       "      <th>610</th>\n",
       "      <td>LP002979</td>\n",
       "      <td>Male</td>\n",
       "      <td>Yes</td>\n",
       "      <td>3+</td>\n",
       "      <td>Graduate</td>\n",
       "      <td>No</td>\n",
       "      <td>4106</td>\n",
       "      <td>0.0</td>\n",
       "      <td>40.0</td>\n",
       "      <td>180.0</td>\n",
       "      <td>1.0</td>\n",
       "      <td>Rural</td>\n",
       "      <td>Y</td>\n",
       "    </tr>\n",
       "    <tr>\n",
       "      <th>611</th>\n",
       "      <td>LP002983</td>\n",
       "      <td>Male</td>\n",
       "      <td>Yes</td>\n",
       "      <td>1</td>\n",
       "      <td>Graduate</td>\n",
       "      <td>No</td>\n",
       "      <td>8072</td>\n",
       "      <td>240.0</td>\n",
       "      <td>253.0</td>\n",
       "      <td>360.0</td>\n",
       "      <td>1.0</td>\n",
       "      <td>Urban</td>\n",
       "      <td>Y</td>\n",
       "    </tr>\n",
       "    <tr>\n",
       "      <th>612</th>\n",
       "      <td>LP002984</td>\n",
       "      <td>Male</td>\n",
       "      <td>Yes</td>\n",
       "      <td>2</td>\n",
       "      <td>Graduate</td>\n",
       "      <td>No</td>\n",
       "      <td>7583</td>\n",
       "      <td>0.0</td>\n",
       "      <td>187.0</td>\n",
       "      <td>360.0</td>\n",
       "      <td>1.0</td>\n",
       "      <td>Urban</td>\n",
       "      <td>Y</td>\n",
       "    </tr>\n",
       "  </tbody>\n",
       "</table>\n",
       "<p>381 rows × 13 columns</p>\n",
       "</div>"
      ],
      "text/plain": [
       "      Loan_ID  Gender Married Dependents     Education Self_Employed  \\\n",
       "2    LP001005    Male     Yes          0      Graduate           Yes   \n",
       "3    LP001006    Male     Yes          0  Not Graduate            No   \n",
       "4    LP001008    Male      No          0      Graduate            No   \n",
       "5    LP001011    Male     Yes          2      Graduate           Yes   \n",
       "6    LP001013    Male     Yes          0  Not Graduate            No   \n",
       "..        ...     ...     ...        ...           ...           ...   \n",
       "608  LP002974    Male     Yes          0      Graduate            No   \n",
       "609  LP002978  Female      No          0      Graduate            No   \n",
       "610  LP002979    Male     Yes         3+      Graduate            No   \n",
       "611  LP002983    Male     Yes          1      Graduate            No   \n",
       "612  LP002984    Male     Yes          2      Graduate            No   \n",
       "\n",
       "     ApplicantIncome  CoapplicantIncome  LoanAmount  Loan_Amount_Term  \\\n",
       "2               3000                0.0        66.0             360.0   \n",
       "3               2583             2358.0       120.0             360.0   \n",
       "4               6000                0.0       141.0             360.0   \n",
       "5               5417             4196.0       267.0             360.0   \n",
       "6               2333             1516.0        95.0             360.0   \n",
       "..               ...                ...         ...               ...   \n",
       "608             3232             1950.0       108.0             360.0   \n",
       "609             2900                0.0        71.0             360.0   \n",
       "610             4106                0.0        40.0             180.0   \n",
       "611             8072              240.0       253.0             360.0   \n",
       "612             7583                0.0       187.0             360.0   \n",
       "\n",
       "     Credit_History Property_Area Loan_Status  \n",
       "2               1.0         Urban           Y  \n",
       "3               1.0         Urban           Y  \n",
       "4               1.0         Urban           Y  \n",
       "5               1.0         Urban           Y  \n",
       "6               1.0         Urban           Y  \n",
       "..              ...           ...         ...  \n",
       "608             1.0         Rural           Y  \n",
       "609             1.0         Rural           Y  \n",
       "610             1.0         Rural           Y  \n",
       "611             1.0         Urban           Y  \n",
       "612             1.0         Urban           Y  \n",
       "\n",
       "[381 rows x 13 columns]"
      ]
     },
     "metadata": {},
     "execution_count": 13
    }
   ],
   "metadata": {}
  },
  {
   "cell_type": "markdown",
   "source": [
    "Time to predict"
   ],
   "metadata": {}
  },
  {
   "cell_type": "code",
   "execution_count": 14,
   "source": [
    "user_data_encode = pd.get_dummies(user_data.iloc[:,1:],drop_first=True)"
   ],
   "outputs": [],
   "metadata": {}
  },
  {
   "cell_type": "code",
   "execution_count": 15,
   "source": [
    "user_data_encode"
   ],
   "outputs": [
    {
     "output_type": "execute_result",
     "data": {
      "text/html": [
       "<div>\n",
       "<style scoped>\n",
       "    .dataframe tbody tr th:only-of-type {\n",
       "        vertical-align: middle;\n",
       "    }\n",
       "\n",
       "    .dataframe tbody tr th {\n",
       "        vertical-align: top;\n",
       "    }\n",
       "\n",
       "    .dataframe thead th {\n",
       "        text-align: right;\n",
       "    }\n",
       "</style>\n",
       "<table border=\"1\" class=\"dataframe\">\n",
       "  <thead>\n",
       "    <tr style=\"text-align: right;\">\n",
       "      <th></th>\n",
       "      <th>ApplicantIncome</th>\n",
       "      <th>CoapplicantIncome</th>\n",
       "      <th>LoanAmount</th>\n",
       "      <th>Loan_Amount_Term</th>\n",
       "      <th>Credit_History</th>\n",
       "      <th>Gender_Male</th>\n",
       "      <th>Gender_Prefer not to say</th>\n",
       "      <th>Married_Prefer not to say</th>\n",
       "      <th>Married_Yes</th>\n",
       "      <th>Dependents_1</th>\n",
       "      <th>Dependents_2</th>\n",
       "      <th>Dependents_3+</th>\n",
       "      <th>Education_Not Graduate</th>\n",
       "      <th>Self_Employed_Yes</th>\n",
       "      <th>Property_Area_Semiurban</th>\n",
       "      <th>Property_Area_Urban</th>\n",
       "      <th>Loan_Status_Y</th>\n",
       "    </tr>\n",
       "  </thead>\n",
       "  <tbody>\n",
       "    <tr>\n",
       "      <th>1</th>\n",
       "      <td>4583</td>\n",
       "      <td>1508.0</td>\n",
       "      <td>128.0</td>\n",
       "      <td>360.0</td>\n",
       "      <td>1.0</td>\n",
       "      <td>1</td>\n",
       "      <td>0</td>\n",
       "      <td>0</td>\n",
       "      <td>1</td>\n",
       "      <td>1</td>\n",
       "      <td>0</td>\n",
       "      <td>0</td>\n",
       "      <td>0</td>\n",
       "      <td>0</td>\n",
       "      <td>0</td>\n",
       "      <td>0</td>\n",
       "      <td>0</td>\n",
       "    </tr>\n",
       "    <tr>\n",
       "      <th>2</th>\n",
       "      <td>3000</td>\n",
       "      <td>0.0</td>\n",
       "      <td>66.0</td>\n",
       "      <td>360.0</td>\n",
       "      <td>1.0</td>\n",
       "      <td>1</td>\n",
       "      <td>0</td>\n",
       "      <td>0</td>\n",
       "      <td>1</td>\n",
       "      <td>0</td>\n",
       "      <td>0</td>\n",
       "      <td>0</td>\n",
       "      <td>0</td>\n",
       "      <td>1</td>\n",
       "      <td>0</td>\n",
       "      <td>1</td>\n",
       "      <td>1</td>\n",
       "    </tr>\n",
       "    <tr>\n",
       "      <th>3</th>\n",
       "      <td>2583</td>\n",
       "      <td>2358.0</td>\n",
       "      <td>120.0</td>\n",
       "      <td>360.0</td>\n",
       "      <td>1.0</td>\n",
       "      <td>1</td>\n",
       "      <td>0</td>\n",
       "      <td>0</td>\n",
       "      <td>1</td>\n",
       "      <td>0</td>\n",
       "      <td>0</td>\n",
       "      <td>0</td>\n",
       "      <td>1</td>\n",
       "      <td>0</td>\n",
       "      <td>0</td>\n",
       "      <td>1</td>\n",
       "      <td>1</td>\n",
       "    </tr>\n",
       "    <tr>\n",
       "      <th>4</th>\n",
       "      <td>6000</td>\n",
       "      <td>0.0</td>\n",
       "      <td>141.0</td>\n",
       "      <td>360.0</td>\n",
       "      <td>1.0</td>\n",
       "      <td>1</td>\n",
       "      <td>0</td>\n",
       "      <td>0</td>\n",
       "      <td>0</td>\n",
       "      <td>0</td>\n",
       "      <td>0</td>\n",
       "      <td>0</td>\n",
       "      <td>0</td>\n",
       "      <td>0</td>\n",
       "      <td>0</td>\n",
       "      <td>1</td>\n",
       "      <td>1</td>\n",
       "    </tr>\n",
       "    <tr>\n",
       "      <th>5</th>\n",
       "      <td>5417</td>\n",
       "      <td>4196.0</td>\n",
       "      <td>267.0</td>\n",
       "      <td>360.0</td>\n",
       "      <td>1.0</td>\n",
       "      <td>1</td>\n",
       "      <td>0</td>\n",
       "      <td>0</td>\n",
       "      <td>1</td>\n",
       "      <td>0</td>\n",
       "      <td>1</td>\n",
       "      <td>0</td>\n",
       "      <td>0</td>\n",
       "      <td>1</td>\n",
       "      <td>0</td>\n",
       "      <td>1</td>\n",
       "      <td>1</td>\n",
       "    </tr>\n",
       "    <tr>\n",
       "      <th>...</th>\n",
       "      <td>...</td>\n",
       "      <td>...</td>\n",
       "      <td>...</td>\n",
       "      <td>...</td>\n",
       "      <td>...</td>\n",
       "      <td>...</td>\n",
       "      <td>...</td>\n",
       "      <td>...</td>\n",
       "      <td>...</td>\n",
       "      <td>...</td>\n",
       "      <td>...</td>\n",
       "      <td>...</td>\n",
       "      <td>...</td>\n",
       "      <td>...</td>\n",
       "      <td>...</td>\n",
       "      <td>...</td>\n",
       "      <td>...</td>\n",
       "    </tr>\n",
       "    <tr>\n",
       "      <th>609</th>\n",
       "      <td>2900</td>\n",
       "      <td>0.0</td>\n",
       "      <td>71.0</td>\n",
       "      <td>360.0</td>\n",
       "      <td>1.0</td>\n",
       "      <td>0</td>\n",
       "      <td>0</td>\n",
       "      <td>0</td>\n",
       "      <td>0</td>\n",
       "      <td>0</td>\n",
       "      <td>0</td>\n",
       "      <td>0</td>\n",
       "      <td>0</td>\n",
       "      <td>0</td>\n",
       "      <td>0</td>\n",
       "      <td>0</td>\n",
       "      <td>1</td>\n",
       "    </tr>\n",
       "    <tr>\n",
       "      <th>610</th>\n",
       "      <td>4106</td>\n",
       "      <td>0.0</td>\n",
       "      <td>40.0</td>\n",
       "      <td>180.0</td>\n",
       "      <td>1.0</td>\n",
       "      <td>1</td>\n",
       "      <td>0</td>\n",
       "      <td>0</td>\n",
       "      <td>1</td>\n",
       "      <td>0</td>\n",
       "      <td>0</td>\n",
       "      <td>1</td>\n",
       "      <td>0</td>\n",
       "      <td>0</td>\n",
       "      <td>0</td>\n",
       "      <td>0</td>\n",
       "      <td>1</td>\n",
       "    </tr>\n",
       "    <tr>\n",
       "      <th>611</th>\n",
       "      <td>8072</td>\n",
       "      <td>240.0</td>\n",
       "      <td>253.0</td>\n",
       "      <td>360.0</td>\n",
       "      <td>1.0</td>\n",
       "      <td>1</td>\n",
       "      <td>0</td>\n",
       "      <td>0</td>\n",
       "      <td>1</td>\n",
       "      <td>1</td>\n",
       "      <td>0</td>\n",
       "      <td>0</td>\n",
       "      <td>0</td>\n",
       "      <td>0</td>\n",
       "      <td>0</td>\n",
       "      <td>1</td>\n",
       "      <td>1</td>\n",
       "    </tr>\n",
       "    <tr>\n",
       "      <th>612</th>\n",
       "      <td>7583</td>\n",
       "      <td>0.0</td>\n",
       "      <td>187.0</td>\n",
       "      <td>360.0</td>\n",
       "      <td>1.0</td>\n",
       "      <td>1</td>\n",
       "      <td>0</td>\n",
       "      <td>0</td>\n",
       "      <td>1</td>\n",
       "      <td>0</td>\n",
       "      <td>1</td>\n",
       "      <td>0</td>\n",
       "      <td>0</td>\n",
       "      <td>0</td>\n",
       "      <td>0</td>\n",
       "      <td>1</td>\n",
       "      <td>1</td>\n",
       "    </tr>\n",
       "    <tr>\n",
       "      <th>613</th>\n",
       "      <td>4583</td>\n",
       "      <td>0.0</td>\n",
       "      <td>133.0</td>\n",
       "      <td>360.0</td>\n",
       "      <td>0.0</td>\n",
       "      <td>0</td>\n",
       "      <td>0</td>\n",
       "      <td>0</td>\n",
       "      <td>0</td>\n",
       "      <td>0</td>\n",
       "      <td>0</td>\n",
       "      <td>0</td>\n",
       "      <td>0</td>\n",
       "      <td>1</td>\n",
       "      <td>1</td>\n",
       "      <td>0</td>\n",
       "      <td>0</td>\n",
       "    </tr>\n",
       "  </tbody>\n",
       "</table>\n",
       "<p>548 rows × 17 columns</p>\n",
       "</div>"
      ],
      "text/plain": [
       "     ApplicantIncome  CoapplicantIncome  LoanAmount  Loan_Amount_Term  \\\n",
       "1               4583             1508.0       128.0             360.0   \n",
       "2               3000                0.0        66.0             360.0   \n",
       "3               2583             2358.0       120.0             360.0   \n",
       "4               6000                0.0       141.0             360.0   \n",
       "5               5417             4196.0       267.0             360.0   \n",
       "..               ...                ...         ...               ...   \n",
       "609             2900                0.0        71.0             360.0   \n",
       "610             4106                0.0        40.0             180.0   \n",
       "611             8072              240.0       253.0             360.0   \n",
       "612             7583                0.0       187.0             360.0   \n",
       "613             4583                0.0       133.0             360.0   \n",
       "\n",
       "     Credit_History  Gender_Male  Gender_Prefer not to say  \\\n",
       "1               1.0            1                         0   \n",
       "2               1.0            1                         0   \n",
       "3               1.0            1                         0   \n",
       "4               1.0            1                         0   \n",
       "5               1.0            1                         0   \n",
       "..              ...          ...                       ...   \n",
       "609             1.0            0                         0   \n",
       "610             1.0            1                         0   \n",
       "611             1.0            1                         0   \n",
       "612             1.0            1                         0   \n",
       "613             0.0            0                         0   \n",
       "\n",
       "     Married_Prefer not to say  Married_Yes  Dependents_1  Dependents_2  \\\n",
       "1                            0            1             1             0   \n",
       "2                            0            1             0             0   \n",
       "3                            0            1             0             0   \n",
       "4                            0            0             0             0   \n",
       "5                            0            1             0             1   \n",
       "..                         ...          ...           ...           ...   \n",
       "609                          0            0             0             0   \n",
       "610                          0            1             0             0   \n",
       "611                          0            1             1             0   \n",
       "612                          0            1             0             1   \n",
       "613                          0            0             0             0   \n",
       "\n",
       "     Dependents_3+  Education_Not Graduate  Self_Employed_Yes  \\\n",
       "1                0                       0                  0   \n",
       "2                0                       0                  1   \n",
       "3                0                       1                  0   \n",
       "4                0                       0                  0   \n",
       "5                0                       0                  1   \n",
       "..             ...                     ...                ...   \n",
       "609              0                       0                  0   \n",
       "610              1                       0                  0   \n",
       "611              0                       0                  0   \n",
       "612              0                       0                  0   \n",
       "613              0                       0                  1   \n",
       "\n",
       "     Property_Area_Semiurban  Property_Area_Urban  Loan_Status_Y  \n",
       "1                          0                    0              0  \n",
       "2                          0                    1              1  \n",
       "3                          0                    1              1  \n",
       "4                          0                    1              1  \n",
       "5                          0                    1              1  \n",
       "..                       ...                  ...            ...  \n",
       "609                        0                    0              1  \n",
       "610                        0                    0              1  \n",
       "611                        0                    1              1  \n",
       "612                        0                    1              1  \n",
       "613                        1                    0              0  \n",
       "\n",
       "[548 rows x 17 columns]"
      ]
     },
     "metadata": {},
     "execution_count": 15
    }
   ],
   "metadata": {}
  },
  {
   "cell_type": "code",
   "execution_count": 16,
   "source": [
    "X = user_data_encode.drop(columns='Loan_Status_Y')\r\n",
    "y = user_data_encode['Loan_Status_Y']"
   ],
   "outputs": [],
   "metadata": {}
  },
  {
   "cell_type": "code",
   "execution_count": 17,
   "source": [
    "from sklearn.model_selection import train_test_split\r\n",
    "X_train,X_test,y_train,y_test = train_test_split(X,y,test_size=0.2,stratify =y,random_state =555)"
   ],
   "outputs": [],
   "metadata": {}
  },
  {
   "cell_type": "markdown",
   "source": [
    "# Model 1: Random Forest"
   ],
   "metadata": {}
  },
  {
   "cell_type": "code",
   "execution_count": 19,
   "source": [
    "# we need to tune a max_depth of this model before move on other model\r\n",
    "from sklearn.tree import DecisionTreeClassifier\r\n",
    "from sklearn.model_selection import cross_val_score\r\n",
    "from sklearn.metrics import accuracy_score,f1_score\r\n",
    "\r\n",
    "training_accuracy = []\r\n",
    "val_accuracy = []\r\n",
    "training_f1 = []\r\n",
    "val_f1 = []\r\n",
    "tree_depths = []\r\n",
    "\r\n",
    "for depth in range(1,20):\r\n",
    "    tree_clf = DecisionTreeClassifier(max_depth=depth)\r\n",
    "    tree_clf.fit(X_train,y_train)\r\n",
    "    y_training_predict = tree_clf.predict(X_train)\r\n",
    "    \r\n",
    "    training_acc = accuracy_score(y_train,y_training_predict)\r\n",
    "    train_f1 = f1_score(y_train,y_training_predict)\r\n",
    "    val_mean_f1 = cross_val_score(tree_clf,X_train,y_train,cv=5,scoring='f1_macro').mean() # ที่ต้องทำให้เป็น mean เพราะว่าในการทำ cross validation นั้น output จะออกมาหลายค่า เลยใช้ค่าเฉลี่ย เพื่อเป็นการบ่งบอกถึงความสามารถในการทำนายเอาไว้\r\n",
    "    val_mean_accuracy  = cross_val_score(tree_clf,X_train,y_train,cv=5,scoring='accuracy').mean()\r\n",
    "    \r\n",
    "    training_accuracy.append(training_acc)\r\n",
    "    val_accuracy.append(val_mean_accuracy)\r\n",
    "    training_f1.append(train_f1)\r\n",
    "    val_f1.append(val_mean_f1)\r\n",
    "    tree_depths.append(depth)"
   ],
   "outputs": [],
   "metadata": {}
  },
  {
   "cell_type": "code",
   "execution_count": 20,
   "source": [
    "print(training_accuracy)\r\n",
    "print(val_accuracy)\r\n",
    "print(training_f1)\r\n",
    "print(val_f1)\r\n",
    "print(tree_depths)"
   ],
   "outputs": [
    {
     "output_type": "stream",
     "name": "stdout",
     "text": [
      "[0.7557077625570776, 0.7602739726027398, 0.7785388127853882, 0.7922374429223744, 0.8105022831050228, 0.819634703196347, 0.8378995433789954, 0.8538812785388128, 0.865296803652968, 0.8949771689497716, 0.910958904109589, 0.9269406392694064, 0.954337899543379, 0.9771689497716894, 0.9840182648401826, 0.997716894977169, 1.0, 1.0, 1.0]\n",
      "[0.7555642633228841, 0.714576802507837, 0.7236677115987462, 0.730485893416928, 0.714576802507837, 0.7077586206896551, 0.6986154649947753, 0.6803552769070011, 0.6757575757575758, 0.6598484848484848, 0.6758098223615464, 0.6690438871473354, 0.6667711598746082, 0.6827847439916406, 0.6507575757575756, 0.6713949843260187, 0.6485109717868338, 0.646264367816092, 0.6759143155694879]\n",
      "[0.8356374807987712, 0.8435171385991058, 0.852359208523592, 0.8602150537634409, 0.8728943338437979, 0.878648233486943, 0.8919330289193302, 0.9012345679012346, 0.9112781954887218, 0.9274447949526814, 0.9379968203497616, 0.9498432601880877, 0.9678456591639872, 0.9838187702265372, 0.9884678747940692, 0.9983633387888707, 1.0, 1.0, 1.0]\n",
      "[0.6773398517483156, 0.6190798949350718, 0.6241746891071974, 0.6463790573586171, 0.616002609671009, 0.598817726524232, 0.608805489861996, 0.5867336279860782, 0.5938988878808642, 0.5802573192642759, 0.5982849139942404, 0.6040104503069428, 0.6072086325848189, 0.5992824708989314, 0.598927134228562, 0.6007229228055557, 0.6036640728982597, 0.6127237568563284, 0.6099138317863171]\n",
      "[1, 2, 3, 4, 5, 6, 7, 8, 9, 10, 11, 12, 13, 14, 15, 16, 17, 18, 19]\n"
     ]
    }
   ],
   "metadata": {}
  },
  {
   "cell_type": "code",
   "execution_count": 21,
   "source": [
    "Tuning_min_samples_leaf = {\"Training Accuracy\": training_accuracy, \"Validation Accuracy\": val_accuracy, \"Training F1\": training_f1, \"Validation F1\":val_f1}\r\n",
    "\r\n",
    "Tuning_min_samples_leaf_df = pd.DataFrame(Tuning_min_samples_leaf,index=tree_depths)"
   ],
   "outputs": [],
   "metadata": {}
  },
  {
   "cell_type": "code",
   "execution_count": 22,
   "source": [
    "plt.figure(figsize=(15,5))\r\n",
    "plt.plot(Tuning_min_samples_leaf_df, '-o')\r\n",
    "plt.title('compare accuracy')\r\n",
    "plt.ylabel('accuracy')\r\n",
    "plt.grid(True)"
   ],
   "outputs": [
    {
     "output_type": "display_data",
     "data": {
      "image/png": "[encoded data removed]",
      "text/plain": [
       "<Figure size 1080x360 with 1 Axes>"
      ]
     },
     "metadata": {
      "needs_background": "light"
     }
    }
   ],
   "metadata": {}
  },
  {
   "cell_type": "markdown",
   "source": [
    "as we see from above we see that max_depth = `4` is the best for this model"
   ],
   "metadata": {}
  },
  {
   "cell_type": "code",
   "execution_count": 24,
   "source": [
    "import graphviz\r\n",
    "from sklearn import tree\r\n",
    "\r\n",
    "tree_clf = tree.DecisionTreeClassifier(max_depth = 4)\r\n",
    "tree_clf.fit(X_train,y_train)\r\n",
    "dot_data = tree.export_graphviz(tree_clf,feature_names = X.columns.tolist())\r\n",
    "graph = graphviz.Source(dot_data)\r\n",
    "graph"
   ],
   "outputs": [
    {
     "output_type": "execute_result",
     "data": {
      "image/svg+xml": "<?xml version=\"1.0\" encoding=\"UTF-8\" standalone=\"no\"?>\r\n<!DOCTYPE svg PUBLIC \"-//W3C//DTD SVG 1.1//EN\"\r\n \"http://www.w3.org/Graphics/SVG/1.1/DTD/svg11.dtd\">\r\n<!-- Generated by graphviz version 2.47.3 (20210619.1520)\r\n -->\r\n<!-- Title: Tree Pages: 1 -->\r\n<svg width=\"1297pt\" height=\"477pt\"\r\n viewBox=\"0.00 0.00 1297.00 477.00\" xmlns=\"http://www.w3.org/2000/svg\" xmlns:xlink=\"http://www.w3.org/1999/xlink\">\r\n<g id=\"graph0\" class=\"graph\" transform=\"scale(1 1) rotate(0) translate(4 473)\">\r\n<title>Tree</title>\r\n<polygon fill=\"white\" stroke=\"transparent\" points=\"-4,4 -4,-473 1293,-473 1293,4 -4,4\"/>\r\n<!-- 0 -->\r\n<g id=\"node1\" class=\"node\">\r\n<title>0</title>\r\n<polygon fill=\"none\" stroke=\"black\" points=\"741,-469 600,-469 600,-401 741,-401 741,-469\"/>\r\n<text text-anchor=\"middle\" x=\"670.5\" y=\"-453.8\" font-family=\"Times New Roman,serif\" font-size=\"14.00\">Credit_History &lt;= 0.5</text>\r\n<text text-anchor=\"middle\" x=\"670.5\" y=\"-438.8\" font-family=\"Times New Roman,serif\" font-size=\"14.00\">gini = 0.423</text>\r\n<text text-anchor=\"middle\" x=\"670.5\" y=\"-423.8\" font-family=\"Times New Roman,serif\" font-size=\"14.00\">samples = 438</text>\r\n<text text-anchor=\"middle\" x=\"670.5\" y=\"-408.8\" font-family=\"Times New Roman,serif\" font-size=\"14.00\">value = [133, 305]</text>\r\n</g>\r\n<!-- 1 -->\r\n<g id=\"node2\" class=\"node\">\r\n<title>1</title>\r\n<polygon fill=\"none\" stroke=\"black\" points=\"638.5,-365 500.5,-365 500.5,-297 638.5,-297 638.5,-365\"/>\r\n<text text-anchor=\"middle\" x=\"569.5\" y=\"-349.8\" font-family=\"Times New Roman,serif\" font-size=\"14.00\">LoanAmount &lt;= 97.0</text>\r\n<text text-anchor=\"middle\" x=\"569.5\" y=\"-334.8\" font-family=\"Times New Roman,serif\" font-size=\"14.00\">gini = 0.46</text>\r\n<text text-anchor=\"middle\" x=\"569.5\" y=\"-319.8\" font-family=\"Times New Roman,serif\" font-size=\"14.00\">samples = 92</text>\r\n<text text-anchor=\"middle\" x=\"569.5\" y=\"-304.8\" font-family=\"Times New Roman,serif\" font-size=\"14.00\">value = [59, 33]</text>\r\n</g>\r\n<!-- 0&#45;&gt;1 -->\r\n<g id=\"edge1\" class=\"edge\">\r\n<title>0&#45;&gt;1</title>\r\n<path fill=\"none\" stroke=\"black\" d=\"M637.71,-400.88C628.8,-391.89 619.05,-382.04 609.78,-372.68\"/>\r\n<polygon fill=\"black\" stroke=\"black\" points=\"612,-369.94 602.47,-365.3 607.02,-374.87 612,-369.94\"/>\r\n<text text-anchor=\"middle\" x=\"602.35\" y=\"-386.6\" font-family=\"Times New Roman,serif\" font-size=\"14.00\">True</text>\r\n</g>\r\n<!-- 14 -->\r\n<g id=\"node15\" class=\"node\">\r\n<title>14</title>\r\n<polygon fill=\"none\" stroke=\"black\" points=\"904,-365 697,-365 697,-297 904,-297 904,-365\"/>\r\n<text text-anchor=\"middle\" x=\"800.5\" y=\"-349.8\" font-family=\"Times New Roman,serif\" font-size=\"14.00\">Property_Area_Semiurban &lt;= 0.5</text>\r\n<text text-anchor=\"middle\" x=\"800.5\" y=\"-334.8\" font-family=\"Times New Roman,serif\" font-size=\"14.00\">gini = 0.336</text>\r\n<text text-anchor=\"middle\" x=\"800.5\" y=\"-319.8\" font-family=\"Times New Roman,serif\" font-size=\"14.00\">samples = 346</text>\r\n<text text-anchor=\"middle\" x=\"800.5\" y=\"-304.8\" font-family=\"Times New Roman,serif\" font-size=\"14.00\">value = [74, 272]</text>\r\n</g>\r\n<!-- 0&#45;&gt;14 -->\r\n<g id=\"edge14\" class=\"edge\">\r\n<title>0&#45;&gt;14</title>\r\n<path fill=\"none\" stroke=\"black\" d=\"M712.71,-400.88C724.63,-391.53 737.72,-381.26 750.07,-371.57\"/>\r\n<polygon fill=\"black\" stroke=\"black\" points=\"752.35,-374.23 758.06,-365.3 748.03,-368.72 752.35,-374.23\"/>\r\n<text text-anchor=\"middle\" x=\"755.06\" y=\"-386.42\" font-family=\"Times New Roman,serif\" font-size=\"14.00\">False</text>\r\n</g>\r\n<!-- 2 -->\r\n<g id=\"node3\" class=\"node\">\r\n<title>2</title>\r\n<polygon fill=\"none\" stroke=\"black\" points=\"415,-261 234,-261 234,-193 415,-193 415,-261\"/>\r\n<text text-anchor=\"middle\" x=\"324.5\" y=\"-245.8\" font-family=\"Times New Roman,serif\" font-size=\"14.00\">CoapplicantIncome &lt;= 699.0</text>\r\n<text text-anchor=\"middle\" x=\"324.5\" y=\"-230.8\" font-family=\"Times New Roman,serif\" font-size=\"14.00\">gini = 0.495</text>\r\n<text text-anchor=\"middle\" x=\"324.5\" y=\"-215.8\" font-family=\"Times New Roman,serif\" font-size=\"14.00\">samples = 20</text>\r\n<text text-anchor=\"middle\" x=\"324.5\" y=\"-200.8\" font-family=\"Times New Roman,serif\" font-size=\"14.00\">value = [9, 11]</text>\r\n</g>\r\n<!-- 1&#45;&gt;2 -->\r\n<g id=\"edge2\" class=\"edge\">\r\n<title>1&#45;&gt;2</title>\r\n<path fill=\"none\" stroke=\"black\" d=\"M500.28,-301.18C473.32,-289.96 442.1,-276.96 413.51,-265.06\"/>\r\n<polygon fill=\"black\" stroke=\"black\" points=\"414.5,-261.68 403.93,-261.07 411.81,-268.14 414.5,-261.68\"/>\r\n</g>\r\n<!-- 9 -->\r\n<g id=\"node10\" class=\"node\">\r\n<title>9</title>\r\n<polygon fill=\"none\" stroke=\"black\" points=\"656.5,-261 482.5,-261 482.5,-193 656.5,-193 656.5,-261\"/>\r\n<text text-anchor=\"middle\" x=\"569.5\" y=\"-245.8\" font-family=\"Times New Roman,serif\" font-size=\"14.00\">ApplicantIncome &lt;= 3127.5</text>\r\n<text text-anchor=\"middle\" x=\"569.5\" y=\"-230.8\" font-family=\"Times New Roman,serif\" font-size=\"14.00\">gini = 0.424</text>\r\n<text text-anchor=\"middle\" x=\"569.5\" y=\"-215.8\" font-family=\"Times New Roman,serif\" font-size=\"14.00\">samples = 72</text>\r\n<text text-anchor=\"middle\" x=\"569.5\" y=\"-200.8\" font-family=\"Times New Roman,serif\" font-size=\"14.00\">value = [50, 22]</text>\r\n</g>\r\n<!-- 1&#45;&gt;9 -->\r\n<g id=\"edge9\" class=\"edge\">\r\n<title>1&#45;&gt;9</title>\r\n<path fill=\"none\" stroke=\"black\" d=\"M569.5,-296.88C569.5,-288.78 569.5,-279.98 569.5,-271.47\"/>\r\n<polygon fill=\"black\" stroke=\"black\" points=\"573,-271.3 569.5,-261.3 566,-271.3 573,-271.3\"/>\r\n</g>\r\n<!-- 3 -->\r\n<g id=\"node4\" class=\"node\">\r\n<title>3</title>\r\n<polygon fill=\"none\" stroke=\"black\" points=\"219.5,-157 81.5,-157 81.5,-89 219.5,-89 219.5,-157\"/>\r\n<text text-anchor=\"middle\" x=\"150.5\" y=\"-141.8\" font-family=\"Times New Roman,serif\" font-size=\"14.00\">LoanAmount &lt;= 90.5</text>\r\n<text text-anchor=\"middle\" x=\"150.5\" y=\"-126.8\" font-family=\"Times New Roman,serif\" font-size=\"14.00\">gini = 0.42</text>\r\n<text text-anchor=\"middle\" x=\"150.5\" y=\"-111.8\" font-family=\"Times New Roman,serif\" font-size=\"14.00\">samples = 10</text>\r\n<text text-anchor=\"middle\" x=\"150.5\" y=\"-96.8\" font-family=\"Times New Roman,serif\" font-size=\"14.00\">value = [7, 3]</text>\r\n</g>\r\n<!-- 2&#45;&gt;3 -->\r\n<g id=\"edge3\" class=\"edge\">\r\n<title>2&#45;&gt;3</title>\r\n<path fill=\"none\" stroke=\"black\" d=\"M268.01,-192.88C251.36,-183.12 233.01,-172.37 215.85,-162.31\"/>\r\n<polygon fill=\"black\" stroke=\"black\" points=\"217.4,-159.16 207.01,-157.12 213.86,-165.2 217.4,-159.16\"/>\r\n</g>\r\n<!-- 6 -->\r\n<g id=\"node7\" class=\"node\">\r\n<title>6</title>\r\n<polygon fill=\"none\" stroke=\"black\" points=\"411.5,-157 237.5,-157 237.5,-89 411.5,-89 411.5,-157\"/>\r\n<text text-anchor=\"middle\" x=\"324.5\" y=\"-141.8\" font-family=\"Times New Roman,serif\" font-size=\"14.00\">ApplicantIncome &lt;= 1937.0</text>\r\n<text text-anchor=\"middle\" x=\"324.5\" y=\"-126.8\" font-family=\"Times New Roman,serif\" font-size=\"14.00\">gini = 0.32</text>\r\n<text text-anchor=\"middle\" x=\"324.5\" y=\"-111.8\" font-family=\"Times New Roman,serif\" font-size=\"14.00\">samples = 10</text>\r\n<text text-anchor=\"middle\" x=\"324.5\" y=\"-96.8\" font-family=\"Times New Roman,serif\" font-size=\"14.00\">value = [2, 8]</text>\r\n</g>\r\n<!-- 2&#45;&gt;6 -->\r\n<g id=\"edge6\" class=\"edge\">\r\n<title>2&#45;&gt;6</title>\r\n<path fill=\"none\" stroke=\"black\" d=\"M324.5,-192.88C324.5,-184.78 324.5,-175.98 324.5,-167.47\"/>\r\n<polygon fill=\"black\" stroke=\"black\" points=\"328,-167.3 324.5,-157.3 321,-167.3 328,-167.3\"/>\r\n</g>\r\n<!-- 4 -->\r\n<g id=\"node5\" class=\"node\">\r\n<title>4</title>\r\n<polygon fill=\"none\" stroke=\"black\" points=\"91,-53 0,-53 0,0 91,0 91,-53\"/>\r\n<text text-anchor=\"middle\" x=\"45.5\" y=\"-37.8\" font-family=\"Times New Roman,serif\" font-size=\"14.00\">gini = 0.219</text>\r\n<text text-anchor=\"middle\" x=\"45.5\" y=\"-22.8\" font-family=\"Times New Roman,serif\" font-size=\"14.00\">samples = 8</text>\r\n<text text-anchor=\"middle\" x=\"45.5\" y=\"-7.8\" font-family=\"Times New Roman,serif\" font-size=\"14.00\">value = [7, 1]</text>\r\n</g>\r\n<!-- 3&#45;&gt;4 -->\r\n<g id=\"edge4\" class=\"edge\">\r\n<title>3&#45;&gt;4</title>\r\n<path fill=\"none\" stroke=\"black\" d=\"M113.78,-88.95C103.41,-79.62 92.14,-69.47 81.79,-60.16\"/>\r\n<polygon fill=\"black\" stroke=\"black\" points=\"83.87,-57.32 74.1,-53.24 79.19,-62.53 83.87,-57.32\"/>\r\n</g>\r\n<!-- 5 -->\r\n<g id=\"node6\" class=\"node\">\r\n<title>5</title>\r\n<polygon fill=\"none\" stroke=\"black\" points=\"200,-53 109,-53 109,0 200,0 200,-53\"/>\r\n<text text-anchor=\"middle\" x=\"154.5\" y=\"-37.8\" font-family=\"Times New Roman,serif\" font-size=\"14.00\">gini = 0.0</text>\r\n<text text-anchor=\"middle\" x=\"154.5\" y=\"-22.8\" font-family=\"Times New Roman,serif\" font-size=\"14.00\">samples = 2</text>\r\n<text text-anchor=\"middle\" x=\"154.5\" y=\"-7.8\" font-family=\"Times New Roman,serif\" font-size=\"14.00\">value = [0, 2]</text>\r\n</g>\r\n<!-- 3&#45;&gt;5 -->\r\n<g id=\"edge5\" class=\"edge\">\r\n<title>3&#45;&gt;5</title>\r\n<path fill=\"none\" stroke=\"black\" d=\"M151.9,-88.95C152.25,-80.72 152.62,-71.85 152.98,-63.48\"/>\r\n<polygon fill=\"black\" stroke=\"black\" points=\"156.48,-63.38 153.41,-53.24 149.49,-63.08 156.48,-63.38\"/>\r\n</g>\r\n<!-- 7 -->\r\n<g id=\"node8\" class=\"node\">\r\n<title>7</title>\r\n<polygon fill=\"none\" stroke=\"black\" points=\"340,-53 249,-53 249,0 340,0 340,-53\"/>\r\n<text text-anchor=\"middle\" x=\"294.5\" y=\"-37.8\" font-family=\"Times New Roman,serif\" font-size=\"14.00\">gini = 0.0</text>\r\n<text text-anchor=\"middle\" x=\"294.5\" y=\"-22.8\" font-family=\"Times New Roman,serif\" font-size=\"14.00\">samples = 2</text>\r\n<text text-anchor=\"middle\" x=\"294.5\" y=\"-7.8\" font-family=\"Times New Roman,serif\" font-size=\"14.00\">value = [2, 0]</text>\r\n</g>\r\n<!-- 6&#45;&gt;7 -->\r\n<g id=\"edge7\" class=\"edge\">\r\n<title>6&#45;&gt;7</title>\r\n<path fill=\"none\" stroke=\"black\" d=\"M314.01,-88.95C311.34,-80.53 308.45,-71.45 305.75,-62.92\"/>\r\n<polygon fill=\"black\" stroke=\"black\" points=\"309.03,-61.71 302.67,-53.24 302.36,-63.83 309.03,-61.71\"/>\r\n</g>\r\n<!-- 8 -->\r\n<g id=\"node9\" class=\"node\">\r\n<title>8</title>\r\n<polygon fill=\"none\" stroke=\"black\" points=\"449,-53 358,-53 358,0 449,0 449,-53\"/>\r\n<text text-anchor=\"middle\" x=\"403.5\" y=\"-37.8\" font-family=\"Times New Roman,serif\" font-size=\"14.00\">gini = 0.0</text>\r\n<text text-anchor=\"middle\" x=\"403.5\" y=\"-22.8\" font-family=\"Times New Roman,serif\" font-size=\"14.00\">samples = 8</text>\r\n<text text-anchor=\"middle\" x=\"403.5\" y=\"-7.8\" font-family=\"Times New Roman,serif\" font-size=\"14.00\">value = [0, 8]</text>\r\n</g>\r\n<!-- 6&#45;&gt;8 -->\r\n<g id=\"edge8\" class=\"edge\">\r\n<title>6&#45;&gt;8</title>\r\n<path fill=\"none\" stroke=\"black\" d=\"M352.13,-88.95C359.7,-79.89 367.91,-70.07 375.51,-60.99\"/>\r\n<polygon fill=\"black\" stroke=\"black\" points=\"378.26,-63.15 381.98,-53.24 372.89,-58.66 378.26,-63.15\"/>\r\n</g>\r\n<!-- 10 -->\r\n<g id=\"node11\" class=\"node\">\r\n<title>10</title>\r\n<polygon fill=\"none\" stroke=\"black\" points=\"527.5,-149.5 429.5,-149.5 429.5,-96.5 527.5,-96.5 527.5,-149.5\"/>\r\n<text text-anchor=\"middle\" x=\"478.5\" y=\"-134.3\" font-family=\"Times New Roman,serif\" font-size=\"14.00\">gini = 0.0</text>\r\n<text text-anchor=\"middle\" x=\"478.5\" y=\"-119.3\" font-family=\"Times New Roman,serif\" font-size=\"14.00\">samples = 17</text>\r\n<text text-anchor=\"middle\" x=\"478.5\" y=\"-104.3\" font-family=\"Times New Roman,serif\" font-size=\"14.00\">value = [17, 0]</text>\r\n</g>\r\n<!-- 9&#45;&gt;10 -->\r\n<g id=\"edge10\" class=\"edge\">\r\n<title>9&#45;&gt;10</title>\r\n<path fill=\"none\" stroke=\"black\" d=\"M539.95,-192.88C529.75,-181.45 518.32,-168.63 508.11,-157.19\"/>\r\n<polygon fill=\"black\" stroke=\"black\" points=\"510.54,-154.65 501.27,-149.52 505.31,-159.31 510.54,-154.65\"/>\r\n</g>\r\n<!-- 11 -->\r\n<g id=\"node12\" class=\"node\">\r\n<title>11</title>\r\n<polygon fill=\"none\" stroke=\"black\" points=\"691,-157 546,-157 546,-89 691,-89 691,-157\"/>\r\n<text text-anchor=\"middle\" x=\"618.5\" y=\"-141.8\" font-family=\"Times New Roman,serif\" font-size=\"14.00\">LoanAmount &lt;= 547.5</text>\r\n<text text-anchor=\"middle\" x=\"618.5\" y=\"-126.8\" font-family=\"Times New Roman,serif\" font-size=\"14.00\">gini = 0.48</text>\r\n<text text-anchor=\"middle\" x=\"618.5\" y=\"-111.8\" font-family=\"Times New Roman,serif\" font-size=\"14.00\">samples = 55</text>\r\n<text text-anchor=\"middle\" x=\"618.5\" y=\"-96.8\" font-family=\"Times New Roman,serif\" font-size=\"14.00\">value = [33, 22]</text>\r\n</g>\r\n<!-- 9&#45;&gt;11 -->\r\n<g id=\"edge11\" class=\"edge\">\r\n<title>9&#45;&gt;11</title>\r\n<path fill=\"none\" stroke=\"black\" d=\"M585.41,-192.88C589.47,-184.42 593.9,-175.21 598.15,-166.35\"/>\r\n<polygon fill=\"black\" stroke=\"black\" points=\"601.33,-167.83 602.5,-157.3 595.02,-164.8 601.33,-167.83\"/>\r\n</g>\r\n<!-- 12 -->\r\n<g id=\"node13\" class=\"node\">\r\n<title>12</title>\r\n<polygon fill=\"none\" stroke=\"black\" points=\"586.5,-53 482.5,-53 482.5,0 586.5,0 586.5,-53\"/>\r\n<text text-anchor=\"middle\" x=\"534.5\" y=\"-37.8\" font-family=\"Times New Roman,serif\" font-size=\"14.00\">gini = 0.47</text>\r\n<text text-anchor=\"middle\" x=\"534.5\" y=\"-22.8\" font-family=\"Times New Roman,serif\" font-size=\"14.00\">samples = 53</text>\r\n<text text-anchor=\"middle\" x=\"534.5\" y=\"-7.8\" font-family=\"Times New Roman,serif\" font-size=\"14.00\">value = [33, 20]</text>\r\n</g>\r\n<!-- 11&#45;&gt;12 -->\r\n<g id=\"edge12\" class=\"edge\">\r\n<title>11&#45;&gt;12</title>\r\n<path fill=\"none\" stroke=\"black\" d=\"M589.12,-88.95C580.99,-79.8 572.16,-69.87 564.02,-60.71\"/>\r\n<polygon fill=\"black\" stroke=\"black\" points=\"566.64,-58.39 557.38,-53.24 561.4,-63.04 566.64,-58.39\"/>\r\n</g>\r\n<!-- 13 -->\r\n<g id=\"node14\" class=\"node\">\r\n<title>13</title>\r\n<polygon fill=\"none\" stroke=\"black\" points=\"696,-53 605,-53 605,0 696,0 696,-53\"/>\r\n<text text-anchor=\"middle\" x=\"650.5\" y=\"-37.8\" font-family=\"Times New Roman,serif\" font-size=\"14.00\">gini = 0.0</text>\r\n<text text-anchor=\"middle\" x=\"650.5\" y=\"-22.8\" font-family=\"Times New Roman,serif\" font-size=\"14.00\">samples = 2</text>\r\n<text text-anchor=\"middle\" x=\"650.5\" y=\"-7.8\" font-family=\"Times New Roman,serif\" font-size=\"14.00\">value = [0, 2]</text>\r\n</g>\r\n<!-- 11&#45;&gt;13 -->\r\n<g id=\"edge13\" class=\"edge\">\r\n<title>11&#45;&gt;13</title>\r\n<path fill=\"none\" stroke=\"black\" d=\"M629.69,-88.95C632.54,-80.53 635.62,-71.45 638.5,-62.92\"/>\r\n<polygon fill=\"black\" stroke=\"black\" points=\"641.89,-63.83 641.78,-53.24 635.26,-61.59 641.89,-63.83\"/>\r\n</g>\r\n<!-- 15 -->\r\n<g id=\"node16\" class=\"node\">\r\n<title>15</title>\r\n<polygon fill=\"none\" stroke=\"black\" points=\"897.5,-261 703.5,-261 703.5,-193 897.5,-193 897.5,-261\"/>\r\n<text text-anchor=\"middle\" x=\"800.5\" y=\"-245.8\" font-family=\"Times New Roman,serif\" font-size=\"14.00\">CoapplicantIncome &lt;= 14053.0</text>\r\n<text text-anchor=\"middle\" x=\"800.5\" y=\"-230.8\" font-family=\"Times New Roman,serif\" font-size=\"14.00\">gini = 0.396</text>\r\n<text text-anchor=\"middle\" x=\"800.5\" y=\"-215.8\" font-family=\"Times New Roman,serif\" font-size=\"14.00\">samples = 206</text>\r\n<text text-anchor=\"middle\" x=\"800.5\" y=\"-200.8\" font-family=\"Times New Roman,serif\" font-size=\"14.00\">value = [56, 150]</text>\r\n</g>\r\n<!-- 14&#45;&gt;15 -->\r\n<g id=\"edge15\" class=\"edge\">\r\n<title>14&#45;&gt;15</title>\r\n<path fill=\"none\" stroke=\"black\" d=\"M800.5,-296.88C800.5,-288.78 800.5,-279.98 800.5,-271.47\"/>\r\n<polygon fill=\"black\" stroke=\"black\" points=\"804,-271.3 800.5,-261.3 797,-271.3 804,-271.3\"/>\r\n</g>\r\n<!-- 20 -->\r\n<g id=\"node21\" class=\"node\">\r\n<title>20</title>\r\n<polygon fill=\"none\" stroke=\"black\" points=\"1118,-261 935,-261 935,-193 1118,-193 1118,-261\"/>\r\n<text text-anchor=\"middle\" x=\"1026.5\" y=\"-245.8\" font-family=\"Times New Roman,serif\" font-size=\"14.00\">Loan_Amount_Term &lt;= 60.0</text>\r\n<text text-anchor=\"middle\" x=\"1026.5\" y=\"-230.8\" font-family=\"Times New Roman,serif\" font-size=\"14.00\">gini = 0.224</text>\r\n<text text-anchor=\"middle\" x=\"1026.5\" y=\"-215.8\" font-family=\"Times New Roman,serif\" font-size=\"14.00\">samples = 140</text>\r\n<text text-anchor=\"middle\" x=\"1026.5\" y=\"-200.8\" font-family=\"Times New Roman,serif\" font-size=\"14.00\">value = [18, 122]</text>\r\n</g>\r\n<!-- 14&#45;&gt;20 -->\r\n<g id=\"edge20\" class=\"edge\">\r\n<title>14&#45;&gt;20</title>\r\n<path fill=\"none\" stroke=\"black\" d=\"M873.88,-296.88C896.19,-286.81 920.87,-275.67 943.76,-265.34\"/>\r\n<polygon fill=\"black\" stroke=\"black\" points=\"945.43,-268.43 953.11,-261.12 942.55,-262.05 945.43,-268.43\"/>\r\n</g>\r\n<!-- 16 -->\r\n<g id=\"node17\" class=\"node\">\r\n<title>16</title>\r\n<polygon fill=\"none\" stroke=\"black\" points=\"854,-157 709,-157 709,-89 854,-89 854,-157\"/>\r\n<text text-anchor=\"middle\" x=\"781.5\" y=\"-141.8\" font-family=\"Times New Roman,serif\" font-size=\"14.00\">LoanAmount &lt;= 490.0</text>\r\n<text text-anchor=\"middle\" x=\"781.5\" y=\"-126.8\" font-family=\"Times New Roman,serif\" font-size=\"14.00\">gini = 0.389</text>\r\n<text text-anchor=\"middle\" x=\"781.5\" y=\"-111.8\" font-family=\"Times New Roman,serif\" font-size=\"14.00\">samples = 204</text>\r\n<text text-anchor=\"middle\" x=\"781.5\" y=\"-96.8\" font-family=\"Times New Roman,serif\" font-size=\"14.00\">value = [54, 150]</text>\r\n</g>\r\n<!-- 15&#45;&gt;16 -->\r\n<g id=\"edge16\" class=\"edge\">\r\n<title>15&#45;&gt;16</title>\r\n<path fill=\"none\" stroke=\"black\" d=\"M794.33,-192.88C792.8,-184.69 791.15,-175.79 789.55,-167.19\"/>\r\n<polygon fill=\"black\" stroke=\"black\" points=\"792.97,-166.49 787.7,-157.3 786.09,-167.77 792.97,-166.49\"/>\r\n</g>\r\n<!-- 19 -->\r\n<g id=\"node20\" class=\"node\">\r\n<title>19</title>\r\n<polygon fill=\"none\" stroke=\"black\" points=\"963,-149.5 872,-149.5 872,-96.5 963,-96.5 963,-149.5\"/>\r\n<text text-anchor=\"middle\" x=\"917.5\" y=\"-134.3\" font-family=\"Times New Roman,serif\" font-size=\"14.00\">gini = 0.0</text>\r\n<text text-anchor=\"middle\" x=\"917.5\" y=\"-119.3\" font-family=\"Times New Roman,serif\" font-size=\"14.00\">samples = 2</text>\r\n<text text-anchor=\"middle\" x=\"917.5\" y=\"-104.3\" font-family=\"Times New Roman,serif\" font-size=\"14.00\">value = [2, 0]</text>\r\n</g>\r\n<!-- 15&#45;&gt;19 -->\r\n<g id=\"edge19\" class=\"edge\">\r\n<title>15&#45;&gt;19</title>\r\n<path fill=\"none\" stroke=\"black\" d=\"M838.49,-192.88C851.98,-181.12 867.15,-167.89 880.56,-156.2\"/>\r\n<polygon fill=\"black\" stroke=\"black\" points=\"882.99,-158.73 888.23,-149.52 878.39,-153.45 882.99,-158.73\"/>\r\n</g>\r\n<!-- 17 -->\r\n<g id=\"node18\" class=\"node\">\r\n<title>17</title>\r\n<polygon fill=\"none\" stroke=\"black\" points=\"833,-53 722,-53 722,0 833,0 833,-53\"/>\r\n<text text-anchor=\"middle\" x=\"777.5\" y=\"-37.8\" font-family=\"Times New Roman,serif\" font-size=\"14.00\">gini = 0.382</text>\r\n<text text-anchor=\"middle\" x=\"777.5\" y=\"-22.8\" font-family=\"Times New Roman,serif\" font-size=\"14.00\">samples = 202</text>\r\n<text text-anchor=\"middle\" x=\"777.5\" y=\"-7.8\" font-family=\"Times New Roman,serif\" font-size=\"14.00\">value = [52, 150]</text>\r\n</g>\r\n<!-- 16&#45;&gt;17 -->\r\n<g id=\"edge17\" class=\"edge\">\r\n<title>16&#45;&gt;17</title>\r\n<path fill=\"none\" stroke=\"black\" d=\"M780.1,-88.95C779.75,-80.72 779.38,-71.85 779.02,-63.48\"/>\r\n<polygon fill=\"black\" stroke=\"black\" points=\"782.51,-63.08 778.59,-53.24 775.52,-63.38 782.51,-63.08\"/>\r\n</g>\r\n<!-- 18 -->\r\n<g id=\"node19\" class=\"node\">\r\n<title>18</title>\r\n<polygon fill=\"none\" stroke=\"black\" points=\"942,-53 851,-53 851,0 942,0 942,-53\"/>\r\n<text text-anchor=\"middle\" x=\"896.5\" y=\"-37.8\" font-family=\"Times New Roman,serif\" font-size=\"14.00\">gini = 0.0</text>\r\n<text text-anchor=\"middle\" x=\"896.5\" y=\"-22.8\" font-family=\"Times New Roman,serif\" font-size=\"14.00\">samples = 2</text>\r\n<text text-anchor=\"middle\" x=\"896.5\" y=\"-7.8\" font-family=\"Times New Roman,serif\" font-size=\"14.00\">value = [2, 0]</text>\r\n</g>\r\n<!-- 16&#45;&gt;18 -->\r\n<g id=\"edge18\" class=\"edge\">\r\n<title>16&#45;&gt;18</title>\r\n<path fill=\"none\" stroke=\"black\" d=\"M821.72,-88.95C833.3,-79.43 845.91,-69.07 857.42,-59.62\"/>\r\n<polygon fill=\"black\" stroke=\"black\" points=\"859.68,-62.29 865.18,-53.24 855.23,-56.88 859.68,-62.29\"/>\r\n</g>\r\n<!-- 21 -->\r\n<g id=\"node22\" class=\"node\">\r\n<title>21</title>\r\n<polygon fill=\"none\" stroke=\"black\" points=\"1072,-149.5 981,-149.5 981,-96.5 1072,-96.5 1072,-149.5\"/>\r\n<text text-anchor=\"middle\" x=\"1026.5\" y=\"-134.3\" font-family=\"Times New Roman,serif\" font-size=\"14.00\">gini = 0.0</text>\r\n<text text-anchor=\"middle\" x=\"1026.5\" y=\"-119.3\" font-family=\"Times New Roman,serif\" font-size=\"14.00\">samples = 2</text>\r\n<text text-anchor=\"middle\" x=\"1026.5\" y=\"-104.3\" font-family=\"Times New Roman,serif\" font-size=\"14.00\">value = [2, 0]</text>\r\n</g>\r\n<!-- 20&#45;&gt;21 -->\r\n<g id=\"edge21\" class=\"edge\">\r\n<title>20&#45;&gt;21</title>\r\n<path fill=\"none\" stroke=\"black\" d=\"M1026.5,-192.88C1026.5,-182.33 1026.5,-170.6 1026.5,-159.85\"/>\r\n<polygon fill=\"black\" stroke=\"black\" points=\"1030,-159.52 1026.5,-149.52 1023,-159.52 1030,-159.52\"/>\r\n</g>\r\n<!-- 22 -->\r\n<g id=\"node23\" class=\"node\">\r\n<title>22</title>\r\n<polygon fill=\"none\" stroke=\"black\" points=\"1278.5,-157 1090.5,-157 1090.5,-89 1278.5,-89 1278.5,-157\"/>\r\n<text text-anchor=\"middle\" x=\"1184.5\" y=\"-141.8\" font-family=\"Times New Roman,serif\" font-size=\"14.00\">CoapplicantIncome &lt;= 6160.0</text>\r\n<text text-anchor=\"middle\" x=\"1184.5\" y=\"-126.8\" font-family=\"Times New Roman,serif\" font-size=\"14.00\">gini = 0.205</text>\r\n<text text-anchor=\"middle\" x=\"1184.5\" y=\"-111.8\" font-family=\"Times New Roman,serif\" font-size=\"14.00\">samples = 138</text>\r\n<text text-anchor=\"middle\" x=\"1184.5\" y=\"-96.8\" font-family=\"Times New Roman,serif\" font-size=\"14.00\">value = [16, 122]</text>\r\n</g>\r\n<!-- 20&#45;&gt;22 -->\r\n<g id=\"edge22\" class=\"edge\">\r\n<title>20&#45;&gt;22</title>\r\n<path fill=\"none\" stroke=\"black\" d=\"M1077.8,-192.88C1092.78,-183.21 1109.27,-172.56 1124.73,-162.59\"/>\r\n<polygon fill=\"black\" stroke=\"black\" points=\"1126.69,-165.49 1133.19,-157.12 1122.89,-159.61 1126.69,-165.49\"/>\r\n</g>\r\n<!-- 23 -->\r\n<g id=\"node24\" class=\"node\">\r\n<title>23</title>\r\n<polygon fill=\"none\" stroke=\"black\" points=\"1180,-53 1069,-53 1069,0 1180,0 1180,-53\"/>\r\n<text text-anchor=\"middle\" x=\"1124.5\" y=\"-37.8\" font-family=\"Times New Roman,serif\" font-size=\"14.00\">gini = 0.176</text>\r\n<text text-anchor=\"middle\" x=\"1124.5\" y=\"-22.8\" font-family=\"Times New Roman,serif\" font-size=\"14.00\">samples = 133</text>\r\n<text text-anchor=\"middle\" x=\"1124.5\" y=\"-7.8\" font-family=\"Times New Roman,serif\" font-size=\"14.00\">value = [13, 120]</text>\r\n</g>\r\n<!-- 22&#45;&gt;23 -->\r\n<g id=\"edge23\" class=\"edge\">\r\n<title>22&#45;&gt;23</title>\r\n<path fill=\"none\" stroke=\"black\" d=\"M1163.51,-88.95C1157.94,-80.17 1151.91,-70.66 1146.29,-61.82\"/>\r\n<polygon fill=\"black\" stroke=\"black\" points=\"1149.16,-59.8 1140.84,-53.24 1143.25,-63.55 1149.16,-59.8\"/>\r\n</g>\r\n<!-- 24 -->\r\n<g id=\"node25\" class=\"node\">\r\n<title>24</title>\r\n<polygon fill=\"none\" stroke=\"black\" points=\"1289,-53 1198,-53 1198,0 1289,0 1289,-53\"/>\r\n<text text-anchor=\"middle\" x=\"1243.5\" y=\"-37.8\" font-family=\"Times New Roman,serif\" font-size=\"14.00\">gini = 0.48</text>\r\n<text text-anchor=\"middle\" x=\"1243.5\" y=\"-22.8\" font-family=\"Times New Roman,serif\" font-size=\"14.00\">samples = 5</text>\r\n<text text-anchor=\"middle\" x=\"1243.5\" y=\"-7.8\" font-family=\"Times New Roman,serif\" font-size=\"14.00\">value = [3, 2]</text>\r\n</g>\r\n<!-- 22&#45;&gt;24 -->\r\n<g id=\"edge24\" class=\"edge\">\r\n<title>22&#45;&gt;24</title>\r\n<path fill=\"none\" stroke=\"black\" d=\"M1205.14,-88.95C1210.62,-80.17 1216.55,-70.66 1222.08,-61.82\"/>\r\n<polygon fill=\"black\" stroke=\"black\" points=\"1225.1,-63.57 1227.43,-53.24 1219.17,-59.87 1225.1,-63.57\"/>\r\n</g>\r\n</g>\r\n</svg>\r\n",
      "text/plain": [
       "<graphviz.files.Source at 0x20780508310>"
      ]
     },
     "metadata": {},
     "execution_count": 24
    }
   ],
   "metadata": {}
  },
  {
   "cell_type": "code",
   "execution_count": 25,
   "source": [
    "from sklearn.ensemble import RandomForestClassifier\r\n",
    "random_forest_clf = RandomForestClassifier(n_estimators=100,max_depth=4,min_samples_leaf = 10)\r\n",
    "random_forest_clf.fit(X_train,y_train)\r\n",
    "y_pred = random_forest_clf.predict(X_train)"
   ],
   "outputs": [],
   "metadata": {}
  },
  {
   "cell_type": "code",
   "execution_count": 26,
   "source": [
    "print(\"Train F1 Score \", f1_score(y_train,y_pred))\r\n",
    "print(\"Train Accuracy \", accuracy_score(y_train,y_pred))\r\n",
    "\r\n",
    "print(\"Validation Mean F1 Score: \",cross_val_score(random_forest_clf,X_train,y_train,cv=5,scoring='f1_macro').mean())\r\n",
    "print(\"Validation Mean Accuracy: \",cross_val_score(random_forest_clf,X_train,y_train,cv=5,scoring='accuracy').mean())"
   ],
   "outputs": [
    {
     "output_type": "stream",
     "name": "stdout",
     "text": [
      "Train F1 Score  0.8550512445095169\n",
      "Train Accuracy  0.773972602739726\n",
      "Validation Mean F1 Score:  0.5726890976511362\n",
      "Validation Mean Accuracy:  0.7008881922675027\n"
     ]
    }
   ],
   "metadata": {}
  },
  {
   "cell_type": "code",
   "execution_count": 27,
   "source": [
    "y_pred = random_forest_clf.predict(X_test)\r\n",
    "print(\"Test Accuracy: \",accuracy_score(y_test,y_pred))\r\n",
    "print(\"Test F1 Score: \",f1_score(y_test,y_pred))\r\n",
    "print(\"Confusion Matrix on Test Data\")\r\n",
    "pd.crosstab(y_test, y_pred, rownames=['True'], colnames=['Predicted'], margins=True)"
   ],
   "outputs": [
    {
     "output_type": "stream",
     "name": "stdout",
     "text": [
      "Test Accuracy:  0.7363636363636363\n",
      "Test F1 Score:  0.8284023668639053\n",
      "Confusion Matrix on Test Data\n"
     ]
    },
    {
     "output_type": "execute_result",
     "data": {
      "text/html": [
       "<div>\n",
       "<style scoped>\n",
       "    .dataframe tbody tr th:only-of-type {\n",
       "        vertical-align: middle;\n",
       "    }\n",
       "\n",
       "    .dataframe tbody tr th {\n",
       "        vertical-align: top;\n",
       "    }\n",
       "\n",
       "    .dataframe thead th {\n",
       "        text-align: right;\n",
       "    }\n",
       "</style>\n",
       "<table border=\"1\" class=\"dataframe\">\n",
       "  <thead>\n",
       "    <tr style=\"text-align: right;\">\n",
       "      <th>Predicted</th>\n",
       "      <th>0</th>\n",
       "      <th>1</th>\n",
       "      <th>All</th>\n",
       "    </tr>\n",
       "    <tr>\n",
       "      <th>True</th>\n",
       "      <th></th>\n",
       "      <th></th>\n",
       "      <th></th>\n",
       "    </tr>\n",
       "  </thead>\n",
       "  <tbody>\n",
       "    <tr>\n",
       "      <th>0</th>\n",
       "      <td>11</td>\n",
       "      <td>23</td>\n",
       "      <td>34</td>\n",
       "    </tr>\n",
       "    <tr>\n",
       "      <th>1</th>\n",
       "      <td>6</td>\n",
       "      <td>70</td>\n",
       "      <td>76</td>\n",
       "    </tr>\n",
       "    <tr>\n",
       "      <th>All</th>\n",
       "      <td>17</td>\n",
       "      <td>93</td>\n",
       "      <td>110</td>\n",
       "    </tr>\n",
       "  </tbody>\n",
       "</table>\n",
       "</div>"
      ],
      "text/plain": [
       "Predicted   0   1  All\n",
       "True                  \n",
       "0          11  23   34\n",
       "1           6  70   76\n",
       "All        17  93  110"
      ]
     },
     "metadata": {},
     "execution_count": 27
    }
   ],
   "metadata": {}
  },
  {
   "cell_type": "markdown",
   "source": [
    "# Model 2 Logistic Regression"
   ],
   "metadata": {}
  },
  {
   "cell_type": "code",
   "execution_count": 58,
   "source": [
    "from sklearn.linear_model import LogisticRegression\r\n",
    "from sklearn.metrics import accuracy_score\r\n",
    "from sklearn.model_selection import cross_val_predict\r\n",
    "\r\n",
    "\r\n",
    "train_accuracies = []\r\n",
    "train_f1_scores = []\r\n",
    "test_accuracies = []\r\n",
    "test_f1_scores = []\r\n",
    "thresholds = []\r\n",
    "for thresh in np.arange(0.1,0.9,0.05): ## Sweeping from threshold of 0.1 to 0.9\r\n",
    "    logreg_clf = LogisticRegression(solver='liblinear')\r\n",
    "    logreg_clf.fit(X_train,y_train)\r\n",
    "    \r\n",
    "    y_pred_train_thresh = logreg_clf.predict_proba(X_train)[:,1]\r\n",
    "    y_pred_train = (y_pred_train_thresh > thresh).astype(int)\r\n",
    "\r\n",
    "    train_acc = accuracy_score(y_train,y_pred_train)\r\n",
    "    train_f1 = f1_score(y_train,y_pred_train)\r\n",
    "    \r\n",
    "    y_pred_test_thresh = logreg_clf.predict_proba(X_test)[:,1]\r\n",
    "    y_pred_test = (y_pred_test_thresh > thresh).astype(int) \r\n",
    "    \r\n",
    "    test_acc = accuracy_score(y_test,y_pred_test)\r\n",
    "    test_f1 = f1_score(y_test,y_pred_test)\r\n",
    "    \r\n",
    "    train_accuracies.append(train_acc)\r\n",
    "    train_f1_scores.append(train_f1)\r\n",
    "    test_accuracies.append(test_acc)\r\n",
    "    test_f1_scores.append(test_f1)\r\n",
    "    thresholds.append(thresh)"
   ],
   "outputs": [],
   "metadata": {}
  },
  {
   "cell_type": "code",
   "execution_count": 59,
   "source": [
    "Threshold_logreg = {\"Training Accuracy\": train_accuracies, \"Test Accuracy\": test_accuracies, \"Training F1\": train_f1_scores, \"Test F1\":test_f1_scores}\r\n",
    "Threshold_logreg_df = pd.DataFrame(Threshold_logreg,index=thresholds)"
   ],
   "outputs": [],
   "metadata": {}
  },
  {
   "cell_type": "code",
   "execution_count": 60,
   "source": [
    "plt.figure(figsize=(15,5))\r\n",
    "plt.plot(Threshold_logreg_df,'-o')\r\n",
    "plt.title('compare accuracy')\r\n",
    "plt.ylabel('value')\r\n",
    "plt.legend(Threshold_logreg_df.columns)\r\n",
    "plt.grid(True)\r\n",
    "plt.xlabel('Threshold')"
   ],
   "outputs": [
    {
     "output_type": "execute_result",
     "data": {
      "text/plain": [
       "Text(0.5, 0, 'Threshold')"
      ]
     },
     "metadata": {},
     "execution_count": 60
    },
    {
     "output_type": "display_data",
     "data": {
      "image/png": "[encoded data removed]",
      "text/plain": [
       "<Figure size 1080x360 with 1 Axes>"
      ]
     },
     "metadata": {
      "needs_background": "light"
     }
    }
   ],
   "metadata": {}
  },
  {
   "cell_type": "markdown",
   "source": [
    "Now we select threshold as 0.5 which should be fit for a model"
   ],
   "metadata": {}
  },
  {
   "cell_type": "code",
   "execution_count": 61,
   "source": [
    "thresh = 0.55\r\n",
    "y_pred_test_thresh = logreg_clf.predict_proba(X_test)[:,1]\r\n",
    "y_pred = (y_pred_test_thresh > thresh).astype(int)\r\n",
    "print(\"Test Accuracy: \",accuracy_score(y_test,y_pred))\r\n",
    "print(\"Test F1 Score: \",f1_score(y_test,y_pred))\r\n",
    "print(\"Confusion Matrix on Test Data\")\r\n",
    "pd.crosstab(y_test, y_pred, rownames=['True'], colnames=['Predicted'], margins=True)"
   ],
   "outputs": [
    {
     "output_type": "stream",
     "name": "stdout",
     "text": [
      "Test Accuracy:  0.7727272727272727\n",
      "Test F1 Score:  0.8407643312101911\n",
      "Confusion Matrix on Test Data\n"
     ]
    },
    {
     "output_type": "execute_result",
     "data": {
      "text/html": [
       "<div>\n",
       "<style scoped>\n",
       "    .dataframe tbody tr th:only-of-type {\n",
       "        vertical-align: middle;\n",
       "    }\n",
       "\n",
       "    .dataframe tbody tr th {\n",
       "        vertical-align: top;\n",
       "    }\n",
       "\n",
       "    .dataframe thead th {\n",
       "        text-align: right;\n",
       "    }\n",
       "</style>\n",
       "<table border=\"1\" class=\"dataframe\">\n",
       "  <thead>\n",
       "    <tr style=\"text-align: right;\">\n",
       "      <th>Predicted</th>\n",
       "      <th>0</th>\n",
       "      <th>1</th>\n",
       "      <th>All</th>\n",
       "    </tr>\n",
       "    <tr>\n",
       "      <th>True</th>\n",
       "      <th></th>\n",
       "      <th></th>\n",
       "      <th></th>\n",
       "    </tr>\n",
       "  </thead>\n",
       "  <tbody>\n",
       "    <tr>\n",
       "      <th>0</th>\n",
       "      <td>19</td>\n",
       "      <td>15</td>\n",
       "      <td>34</td>\n",
       "    </tr>\n",
       "    <tr>\n",
       "      <th>1</th>\n",
       "      <td>10</td>\n",
       "      <td>66</td>\n",
       "      <td>76</td>\n",
       "    </tr>\n",
       "    <tr>\n",
       "      <th>All</th>\n",
       "      <td>29</td>\n",
       "      <td>81</td>\n",
       "      <td>110</td>\n",
       "    </tr>\n",
       "  </tbody>\n",
       "</table>\n",
       "</div>"
      ],
      "text/plain": [
       "Predicted   0   1  All\n",
       "True                  \n",
       "0          19  15   34\n",
       "1          10  66   76\n",
       "All        29  81  110"
      ]
     },
     "metadata": {},
     "execution_count": 61
    }
   ],
   "metadata": {}
  },
  {
   "cell_type": "code",
   "execution_count": 45,
   "source": [
    "logreg_clf.predict_proba(X_test)[:,1]"
   ],
   "outputs": [
    {
     "output_type": "execute_result",
     "data": {
      "text/plain": [
       "array([0.8350302 , 0.59288155, 0.84970141, 0.40058682, 0.8438381 ,\n",
       "       0.40142569, 0.82865446, 0.7787875 , 0.59450332, 0.83757733,\n",
       "       0.6627146 , 0.32907479, 0.85129692, 0.76676062, 0.28510403,\n",
       "       0.74589173, 0.4001726 , 0.77710032, 0.79920318, 0.46688079,\n",
       "       0.65859914, 0.7814413 , 0.30460352, 0.76745547, 0.6296612 ,\n",
       "       0.81292317, 0.90185621, 0.39908267, 0.85793533, 0.57720939,\n",
       "       0.35042734, 0.88385583, 0.89545665, 0.78342255, 0.79447849,\n",
       "       0.34302045, 0.64496762, 0.89413658, 0.73733255, 0.83421019,\n",
       "       0.73111393, 0.82305775, 0.66731167, 0.63276732, 0.86663494,\n",
       "       0.66836975, 0.88132242, 0.83635823, 0.85846059, 0.3759272 ,\n",
       "       0.3866895 , 0.750945  , 0.79458317, 0.4348501 , 0.56009402,\n",
       "       0.280233  , 0.66702843, 0.81790679, 0.59773481, 0.26847929,\n",
       "       0.72849349, 0.82666624, 0.81817021, 0.66182663, 0.8249192 ,\n",
       "       0.4797836 , 0.5241647 , 0.80960311, 0.5488964 , 0.40000212,\n",
       "       0.31369878, 0.79259783, 0.28836101, 0.24849427, 0.68104388,\n",
       "       0.79368807, 0.61205344, 0.80071711, 0.75542659, 0.26549134,\n",
       "       0.93206673, 0.43533584, 0.8453809 , 0.85033243, 0.28357293,\n",
       "       0.81031682, 0.72443639, 0.79346414, 0.22600843, 0.88749158,\n",
       "       0.79367942, 0.732781  , 0.71251929, 0.47687787, 0.85578055,\n",
       "       0.91331139, 0.8429924 , 0.83816496, 0.53221821, 0.79521446,\n",
       "       0.83425672, 0.83422555, 0.40826623, 0.753681  , 0.71070033,\n",
       "       0.75400738, 0.7019216 , 0.79456715, 0.85979714, 0.69505271])"
      ]
     },
     "metadata": {},
     "execution_count": 45
    }
   ],
   "metadata": {}
  },
  {
   "cell_type": "markdown",
   "source": [
    "> <h1>As we see in the crosstab above, We got a logistic regression model's accuracy of `77.3%` and Random forest model's accuracy of `73.6%` Therefore, we use logistic regression model as a bese model for loan approval prediction</h1>"
   ],
   "metadata": {}
  },
  {
   "cell_type": "code",
   "execution_count": 47,
   "source": [
    "user_data_test = pd.read_csv('train_dataset.csv')"
   ],
   "outputs": [],
   "metadata": {}
  },
  {
   "cell_type": "code",
   "execution_count": 73,
   "source": [
    "user_data_test['LoanAmount'].mean()"
   ],
   "outputs": [
    {
     "output_type": "execute_result",
     "data": {
      "text/plain": [
       "146.41216216216216"
      ]
     },
     "metadata": {},
     "execution_count": 73
    }
   ],
   "metadata": {}
  },
  {
   "cell_type": "code",
   "execution_count": 75,
   "source": [
    "user_data_test['Gender'] = user_data_test['Gender'].fillna('Prefer not to say')\r\n",
    "user_data_test['Married'] = user_data_test['Married'].fillna('Prefer not to say')\r\n",
    "user_data_test['Credit_History'] = user_data_test['Credit_History'].fillna('0')\r\n",
    "user_data_test['Dependents'] = user_data_test['Dependents'].fillna('0')\r\n",
    "user_data_test['Self_Employed'] = user_data_test['Self_Employed'].fillna('No')\r\n",
    "user_data_test['Loan_Amount_Term'] = user_data_test['Loan_Amount_Term'].fillna(user_data_test['Loan_Amount_Term'].mean())\r\n",
    "user_data_test['LoanAmount'] = user_data_test['LoanAmount'].fillna(user_data_test['LoanAmount'].mean())"
   ],
   "outputs": [],
   "metadata": {}
  },
  {
   "cell_type": "code",
   "execution_count": 66,
   "source": [
    "user_data_test['Credit_History'].unique()"
   ],
   "outputs": [
    {
     "output_type": "execute_result",
     "data": {
      "text/plain": [
       "array([1.0, 0.0, '0'], dtype=object)"
      ]
     },
     "metadata": {},
     "execution_count": 66
    }
   ],
   "metadata": {}
  },
  {
   "cell_type": "code",
   "execution_count": 67,
   "source": [
    "user_data_test['Credit_History'] = user_data_test['Credit_History'].replace('0', 0)"
   ],
   "outputs": [],
   "metadata": {}
  },
  {
   "cell_type": "code",
   "execution_count": 70,
   "source": [
    "user_data_test['Self_Employed'].unique()"
   ],
   "outputs": [
    {
     "output_type": "execute_result",
     "data": {
      "text/plain": [
       "array(['No', 'Yes', nan], dtype=object)"
      ]
     },
     "metadata": {},
     "execution_count": 70
    }
   ],
   "metadata": {}
  },
  {
   "cell_type": "code",
   "execution_count": 76,
   "source": [
    "# check for a percentage of null values\r\n",
    "for i in user_data_test.columns:\r\n",
    "    print(f'Columns {i} has Na values {user_data_test[i].isna().sum()} row from {len(user_data_test[i])} about {user_data_test[i].isna().sum()*100/user_data[i].count()}%')\r\n"
   ],
   "outputs": [
    {
     "output_type": "stream",
     "name": "stdout",
     "text": [
      "Columns Loan_ID has Na values 0 row from 614 about 0.0%\n",
      "Columns Gender has Na values 0 row from 614 about 0.0%\n",
      "Columns Married has Na values 0 row from 614 about 0.0%\n",
      "Columns Dependents has Na values 0 row from 614 about 0.0%\n",
      "Columns Education has Na values 0 row from 614 about 0.0%\n",
      "Columns Self_Employed has Na values 0 row from 614 about 0.0%\n",
      "Columns ApplicantIncome has Na values 0 row from 614 about 0.0%\n",
      "Columns CoapplicantIncome has Na values 0 row from 614 about 0.0%\n",
      "Columns LoanAmount has Na values 0 row from 614 about 0.0%\n",
      "Columns Loan_Amount_Term has Na values 0 row from 614 about 0.0%\n",
      "Columns Credit_History has Na values 0 row from 614 about 0.0%\n",
      "Columns Property_Area has Na values 0 row from 614 about 0.0%\n",
      "Columns Loan_Status has Na values 0 row from 614 about 0.0%\n"
     ]
    }
   ],
   "metadata": {}
  },
  {
   "cell_type": "code",
   "execution_count": 77,
   "source": [
    "for i in user_data_test.columns[1:]:\r\n",
    "    if i == 'Loan_Status':\r\n",
    "        plt.hist(user_data_test[i])\r\n",
    "        plt.legend(user_data_test[i].unique())\r\n",
    "        # plt.title(f'{i}')\r\n",
    "        plt.show()\r\n",
    "    else:\r\n",
    "        plt.hist(user_data_test[i])\r\n",
    "        plt.hist(user_data_test[user_data_test['Loan_Status'] == 'Y'][i])\r\n",
    "        plt.hist(user_data_test[user_data_test['Loan_Status'] == 'N'][i])\r\n",
    "        plt.legend(['total','Yes','No'])\r\n",
    "        plt.title(f'{i}')\r\n",
    "        plt.show()"
   ],
   "outputs": [
    {
     "output_type": "display_data",
     "data": {
      "image/png": "[encoded data removed]",
      "text/plain": [
       "<Figure size 432x288 with 1 Axes>"
      ]
     },
     "metadata": {
      "needs_background": "light"
     }
    },
    {
     "output_type": "display_data",
     "data": {
      "image/png": "[encoded data removed]",
      "text/plain": [
       "<Figure size 432x288 with 1 Axes>"
      ]
     },
     "metadata": {
      "needs_background": "light"
     }
    },
    {
     "output_type": "display_data",
     "data": {
      "image/png": "[encoded data removed]",
      "text/plain": [
       "<Figure size 432x288 with 1 Axes>"
      ]
     },
     "metadata": {
      "needs_background": "light"
     }
    },
    {
     "output_type": "display_data",
     "data": {
      "image/png": "[encoded data removed]",
      "text/plain": [
       "<Figure size 432x288 with 1 Axes>"
      ]
     },
     "metadata": {
      "needs_background": "light"
     }
    },
    {
     "output_type": "display_data",
     "data": {
      "image/png": "[encoded data removed]",
      "text/plain": [
       "<Figure size 432x288 with 1 Axes>"
      ]
     },
     "metadata": {
      "needs_background": "light"
     }
    },
    {
     "output_type": "display_data",
     "data": {
      "image/png": "[encoded data removed]",
      "text/plain": [
       "<Figure size 432x288 with 1 Axes>"
      ]
     },
     "metadata": {
      "needs_background": "light"
     }
    },
    {
     "output_type": "display_data",
     "data": {
      "image/png": "[encoded data removed]",
      "text/plain": [
       "<Figure size 432x288 with 1 Axes>"
      ]
     },
     "metadata": {
      "needs_background": "light"
     }
    },
    {
     "output_type": "display_data",
     "data": {
      "image/png": "[encoded data removed]",
      "text/plain": [
       "<Figure size 432x288 with 1 Axes>"
      ]
     },
     "metadata": {
      "needs_background": "light"
     }
    },
    {
     "output_type": "display_data",
     "data": {
      "image/png": "[encoded data removed]",
      "text/plain": [
       "<Figure size 432x288 with 1 Axes>"
      ]
     },
     "metadata": {
      "needs_background": "light"
     }
    },
    {
     "output_type": "display_data",
     "data": {
      "image/png": "[encoded data removed]",
      "text/plain": [
       "<Figure size 432x288 with 1 Axes>"
      ]
     },
     "metadata": {
      "needs_background": "light"
     }
    },
    {
     "output_type": "display_data",
     "data": {
      "image/png": "[encoded data removed]",
      "text/plain": [
       "<Figure size 432x288 with 1 Axes>"
      ]
     },
     "metadata": {
      "needs_background": "light"
     }
    },
    {
     "output_type": "display_data",
     "data": {
      "image/png": "[encoded data removed]",
      "text/plain": [
       "<Figure size 432x288 with 1 Axes>"
      ]
     },
     "metadata": {
      "needs_background": "light"
     }
    }
   ],
   "metadata": {}
  },
  {
   "cell_type": "code",
   "execution_count": 78,
   "source": [
    "user_data_test_encode = pd.get_dummies(user_data_test.iloc[:,1:],drop_first=True)"
   ],
   "outputs": [],
   "metadata": {}
  },
  {
   "cell_type": "code",
   "execution_count": 79,
   "source": [
    "X = user_data_test_encode.drop(columns='Loan_Status_Y')\r\n",
    "y = user_data_test_encode['Loan_Status_Y']"
   ],
   "outputs": [],
   "metadata": {}
  },
  {
   "cell_type": "code",
   "execution_count": 80,
   "source": [
    "loan_id = user_data_test.Loan_ID"
   ],
   "outputs": [],
   "metadata": {}
  },
  {
   "cell_type": "code",
   "execution_count": 81,
   "source": [
    "thresh = 0.55\r\n",
    "y_pred_test_thresh = logreg_clf.predict_proba(X)[:,1]\r\n",
    "y_pred = (y_pred_test_thresh > thresh).astype(int)\r\n"
   ],
   "outputs": [],
   "metadata": {}
  },
  {
   "cell_type": "code",
   "execution_count": 88,
   "source": [
    "y_pred_into_Y_N = ['Y' if i == 1 else 'N' for i in y_pred]"
   ],
   "outputs": [],
   "metadata": {}
  },
  {
   "cell_type": "code",
   "execution_count": 91,
   "source": [
    "preds_df = pd.DataFrame(y_pred_into_Y_N,index=loan_id,columns=['Loan_Status'])"
   ],
   "outputs": [],
   "metadata": {}
  },
  {
   "cell_type": "code",
   "execution_count": 94,
   "source": [
    "# preds_df.to_csv('loan approval prediction.csv')"
   ],
   "outputs": [],
   "metadata": {}
  }
 ],
 "metadata": {
  "orig_nbformat": 4,
  "language_info": {
   "name": "python",
   "version": "3.8.10",
   "mimetype": "text/x-python",
   "codemirror_mode": {
    "name": "ipython",
    "version": 3
   },
   "pygments_lexer": "ipython3",
   "nbconvert_exporter": "python",
   "file_extension": ".py"
  },
  "kernelspec": {
   "name": "python3",
   "display_name": "Python 3.8.10 64-bit ('base': conda)"
  },
  "interpreter": {
   "hash": "183bbf6827d058c2a2fb0f4acdc0420849dda2b4380af0e437e38c64d798d8b7"
  }
 },
 "nbformat": 4,
 "nbformat_minor": 2
}